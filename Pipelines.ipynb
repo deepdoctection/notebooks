{
 "cells": [
  {
   "cell_type": "markdown",
   "metadata": {},
   "source": [
    "![title](./pics/dd_logo.png) \n",
    "\n",
    "# Pipelines\n",
    "\n",
    "In the [**configuration notebook**](./Analyzer_Configuration.ipynb), we have already touched on the structure of a pipeline. In this section, we will take a deeper look into its architecture.\n",
    "\n",
    "As a first step, we will take a closer look at the **deep**doctection analyzer and lay the groundwork for developing custom pipelines tailored to specific use cases. After all, document parsing is just one possible application.\n",
    "\n",
    "You might, for example, want to build a pipeline that classifies pages from a scanned binder and extracts entities from them. For such scenarios, **deep**doctection provides powerful components and tools that help you achieve your goals with a manageable amount of code.\n",
    "\n",
    "If you go to the get started notebook and scroll to the cell where the image processed, you will see some logs:\n",
    "\n",
    "\n",
    "```\n",
    "[0523 22:14.35 @doctectionpipe.py:103]  INF  Processing sample_2.png\n",
    "[0523 22:14.37 @context.py:133]         INF  ImageLayoutService total: 2.3095 sec.\n",
    "[0523 22:14.37 @context.py:133]         INF  AnnotationNmsService total: 0.002 sec.\n",
    "[0523 22:14.38 @context.py:133]         INF  SubImageLayoutService total: 0.3684 sec.\n",
    "[0523 22:14.38 @context.py:133]         INF  PubtablesSegmentationService total: 0.0066 sec.\n",
    "[0523 22:14.38 @context.py:133]         INF  ImageLayoutService total: 0.4052 sec.\n",
    "[0523 22:14.39 @context.py:133]         INF  TextExtractionService total: 0.9374 sec.\n",
    "[0523 22:14.39 @context.py:133]         INF  MatchingService total: 0.0059 sec.\n",
    "[0523 22:14.39 @context.py:133]         INF  TextOrderService total: 0.0301 sec.\n",
    "```\n",
    "\n",
    "The logs reveal which pipeline component the image passed through and how much time each component took to process it. Some pipeline components have been deactivated by configuration.\n",
    "\n",
    "A pipeline is built as a sequence of tasks. These tasks are called pipeline components or services.\n",
    "\n",
    "![pipelines](./pics/dd_overview_pipeline.png)\n",
    "\n",
    "Once a pipeline is defined, images or documents can be processed. These are either pure image files (like JPG, PNG, TIFF) or PDF files. PDF files are read and processed page by page. Each page is converted into a numpy array because arrays are the input for vision and OCR models. \n"
   ]
  },
  {
   "metadata": {
    "ExecuteTime": {
     "end_time": "2025-05-25T19:16:22.628955Z",
     "start_time": "2025-05-25T19:16:19.703374Z"
    }
   },
   "cell_type": "code",
   "source": [
    "import deepdoctection as dd\n",
    "from pathlib import Path"
   ],
   "outputs": [
    {
     "name": "stderr",
     "output_type": "stream",
     "text": [
      "/Users/janismeyer/Projekte/deepdoctection/.venv/lib/python3.9/site-packages/tqdm/auto.py:22: TqdmWarning: IProgress not found. Please update jupyter and ipywidgets. See https://ipywidgets.readthedocs.io/en/stable/user_install.html\n",
      "  from .autonotebook import tqdm as notebook_tqdm\n",
      "\u001B[32m[0525 21:16.21 @file_utils.py:31]\u001B[0m  \u001B[32mINF\u001B[0m  \u001B[97mPyTorch version 2.2.2 available.\u001B[0m\n",
      "\u001B[32m[0525 21:16.21 @file_utils.py:69]\u001B[0m  \u001B[32mINF\u001B[0m  \u001B[97mDisabling Tensorflow because USE_TORCH is set\u001B[0m\n"
     ]
    }
   ],
   "execution_count": 1
  },
  {
   "metadata": {
    "ExecuteTime": {
     "end_time": "2025-05-25T19:16:28.529236Z",
     "start_time": "2025-05-25T19:16:22.633219Z"
    }
   },
   "cell_type": "code",
   "source": "analyzer = dd.get_dd_analyzer()",
   "outputs": [
    {
     "name": "stderr",
     "output_type": "stream",
     "text": [
      "\u001B[32m[0525 21:16.23 @dd.py:131]\u001B[0m  \u001B[32mINF\u001B[0m  \u001B[97mConfig: \n",
      " {'DEVICE': device(type='mps'),\n",
      " 'LANGUAGE': None,\n",
      " 'LAYOUT_LINK': {'CHILD_CATEGORIES': [<LayoutType.CAPTION>],\n",
      "                 'PARENTAL_CATEGORIES': [<LayoutType.FIGURE>, <LayoutType.TABLE>]},\n",
      " 'LAYOUT_NMS_PAIRS': {'COMBINATIONS': [[<LayoutType.TABLE>, <LayoutType.TITLE>],\n",
      "                                       [<LayoutType.TABLE>, <LayoutType.TEXT>],\n",
      "                                       [<LayoutType.TABLE>, <LayoutType.KEY_VALUE_AREA>],\n",
      "                                       [<LayoutType.TABLE>, <LayoutType.LIST_ITEM>],\n",
      "                                       [<LayoutType.TABLE>, <LayoutType.LIST>],\n",
      "                                       [<LayoutType.TABLE>, <LayoutType.FIGURE>],\n",
      "                                       [<LayoutType.TITLE>, <LayoutType.TEXT>],\n",
      "                                       [<LayoutType.TEXT>, <LayoutType.KEY_VALUE_AREA>],\n",
      "                                       [<LayoutType.TEXT>, <LayoutType.LIST_ITEM>],\n",
      "                                       [<LayoutType.TEXT>, <LayoutType.CAPTION>],\n",
      "                                       [<LayoutType.KEY_VALUE_AREA>, <LayoutType.LIST_ITEM>],\n",
      "                                       [<LayoutType.FIGURE>, <LayoutType.CAPTION>]],\n",
      "                      'PRIORITY': [<LayoutType.TABLE>, <LayoutType.TABLE>, <LayoutType.TABLE>,\n",
      "                                   <LayoutType.TABLE>, <LayoutType.TABLE>, <LayoutType.TABLE>,\n",
      "                                   <LayoutType.TEXT>, <LayoutType.TEXT>, None, <LayoutType.CAPTION>,\n",
      "                                   <LayoutType.KEY_VALUE_AREA>, <LayoutType.FIGURE>],\n",
      "                      'THRESHOLDS': [0.001, 0.01, 0.01, 0.001, 0.01, 0.01, 0.05, 0.01, 0.01, 0.01,\n",
      "                                     0.01, 0.001]},\n",
      " 'LIB': 'PT',\n",
      " 'OCR': {'CONFIG': {'TESSERACT': 'dd/conf_tesseract.yaml'},\n",
      "         'USE_DOCTR': True,\n",
      "         'USE_TESSERACT': False,\n",
      "         'USE_TEXTRACT': False,\n",
      "         'WEIGHTS': {'DOCTR_RECOGNITION': {'PT': 'doctr/crnn_vgg16_bn/pt/crnn_vgg16_bn-9762b0b0.pt',\n",
      "                                           'TF': 'doctr/crnn_vgg16_bn/tf/crnn_vgg16_bn-76b7f2c6.zip'},\n",
      "                     'DOCTR_WORD': {'PT': 'doctr/db_resnet50/pt/db_resnet50-ac60cadc.pt',\n",
      "                                    'TF': 'doctr/db_resnet50/tf/db_resnet50-adcafc63.zip'}}},\n",
      " 'PDF_MINER': {'X_TOLERANCE': 3, 'Y_TOLERANCE': 3},\n",
      " 'PT': {'CELL': {'FILTER': None,\n",
      "                 'PAD': {'BOTTOM': 60, 'LEFT': 60, 'RIGHT': 60, 'TOP': 60},\n",
      "                 'PADDING': False,\n",
      "                 'WEIGHTS': 'cell/d2_model_1849999_cell_inf_only.pt',\n",
      "                 'WEIGHTS_TS': 'cell/d2_model_1849999_cell_inf_only.ts'},\n",
      "        'ENFORCE_WEIGHTS': {'CELL': True, 'ITEM': True, 'LAYOUT': True},\n",
      "        'ITEM': {'FILTER': ['table'],\n",
      "                 'PAD': {'BOTTOM': 60, 'LEFT': 60, 'RIGHT': 60, 'TOP': 60},\n",
      "                 'PADDING': False,\n",
      "                 'WEIGHTS': 'deepdoctection/tatr_tab_struct_v2/pytorch_model.bin',\n",
      "                 'WEIGHTS_TS': 'item/d2_model_1639999_item_inf_only.ts'},\n",
      "        'LAYOUT': {'FILTER': None,\n",
      "                   'PAD': {'BOTTOM': 0, 'LEFT': 0, 'RIGHT': 0, 'TOP': 0},\n",
      "                   'PADDING': False,\n",
      "                   'WEIGHTS': 'Aryn/deformable-detr-DocLayNet/model.safetensors',\n",
      "                   'WEIGHTS_TS': 'layout/d2_model_0829999_layout_inf_only.ts'}},\n",
      " 'SEGMENTATION': {'ASSIGNMENT_RULE': 'ioa',\n",
      "                  'CELL_NAMES': [<CellType.HEADER>, <CellType.BODY>, <LayoutType.CELL>],\n",
      "                  'FULL_TABLE_TILING': True,\n",
      "                  'ITEM_NAMES': [<LayoutType.ROW>, <LayoutType.COLUMN>],\n",
      "                  'PUBTABLES_CELL_NAMES': [<LayoutType.CELL>],\n",
      "                  'PUBTABLES_ITEM_HEADER_CELL_NAMES': [<CellType.COLUMN_HEADER>,\n",
      "                                                       <CellType.ROW_HEADER>,\n",
      "                                                       <CellType.PROJECTED_ROW_HEADER>],\n",
      "                  'PUBTABLES_ITEM_HEADER_THRESHOLDS': [0.6, 0.0001],\n",
      "                  'PUBTABLES_ITEM_NAMES': [<LayoutType.ROW>, <LayoutType.COLUMN>],\n",
      "                  'PUBTABLES_SPANNING_CELL_NAMES': [<CellType.SPANNING>],\n",
      "                  'PUBTABLES_SUB_ITEM_NAMES': [<CellType.ROW_NUMBER>, <CellType.COLUMN_NUMBER>],\n",
      "                  'REMOVE_IOU_THRESHOLD_COLS': 0.2,\n",
      "                  'REMOVE_IOU_THRESHOLD_ROWS': 0.2,\n",
      "                  'STRETCH_RULE': 'equal',\n",
      "                  'SUB_ITEM_NAMES': [<CellType.ROW_NUMBER>, <CellType.COLUMN_NUMBER>],\n",
      "                  'TABLE_NAME': <LayoutType.TABLE>,\n",
      "                  'THRESHOLD_COLS': 0.4,\n",
      "                  'THRESHOLD_ROWS': 0.4},\n",
      " 'TEXT_CONTAINER': <LayoutType.WORD>,\n",
      " 'TEXT_ORDERING': {'BROKEN_LINE_TOLERANCE': 0.003,\n",
      "                   'FLOATING_TEXT_BLOCK_CATEGORIES': (<LayoutType.TEXT>, <LayoutType.TITLE>,\n",
      "                                                      <LayoutType.LIST>,\n",
      "                                                      <LayoutType.KEY_VALUE_AREA>),\n",
      "                   'HEIGHT_TOLERANCE': 2.0,\n",
      "                   'INCLUDE_RESIDUAL_TEXT_CONTAINER': True,\n",
      "                   'PARAGRAPH_BREAK': 0.035,\n",
      "                   'STARTING_POINT_TOLERANCE': 0.005,\n",
      "                   'TEXT_BLOCK_CATEGORIES': (<LayoutType.TEXT>, <LayoutType.TITLE>,\n",
      "                                             <LayoutType.LIST_ITEM>, <LayoutType.LIST>,\n",
      "                                             <LayoutType.CAPTION>, <LayoutType.PAGE_HEADER>,\n",
      "                                             <LayoutType.PAGE_FOOTER>, <LayoutType.PAGE_NUMBER>,\n",
      "                                             <LayoutType.MARK>, <LayoutType.KEY_VALUE_AREA>,\n",
      "                                             <LayoutType.FIGURE>, <CellType.SPANNING>,\n",
      "                                             <LayoutType.CELL>)},\n",
      " 'TF': {'CELL': {'FILTER': None, 'WEIGHTS': 'cell/model-1800000_inf_only.data-00000-of-00001'},\n",
      "        'ITEM': {'FILTER': None, 'WEIGHTS': 'item/model-1620000_inf_only.data-00000-of-00001'},\n",
      "        'LAYOUT': {'FILTER': None, 'WEIGHTS': 'layout/model-800000_inf_only.data-00000-of-00001'}},\n",
      " 'USE_LAYOUT': True,\n",
      " 'USE_LAYOUT_LINK': False,\n",
      " 'USE_LAYOUT_NMS': True,\n",
      " 'USE_LINE_MATCHER': False,\n",
      " 'USE_OCR': True,\n",
      " 'USE_PDF_MINER': False,\n",
      " 'USE_ROTATOR': False,\n",
      " 'USE_TABLE_REFINEMENT': False,\n",
      " 'USE_TABLE_SEGMENTATION': True,\n",
      " 'WORD_MATCHING': {'MAX_PARENT_ONLY': True,\n",
      "                   'PARENTAL_CATEGORIES': (<LayoutType.TEXT>, <LayoutType.TITLE>,\n",
      "                                           <LayoutType.LIST_ITEM>, <LayoutType.LIST>,\n",
      "                                           <LayoutType.CAPTION>, <LayoutType.PAGE_HEADER>,\n",
      "                                           <LayoutType.PAGE_FOOTER>, <LayoutType.PAGE_NUMBER>,\n",
      "                                           <LayoutType.MARK>, <LayoutType.KEY_VALUE_AREA>,\n",
      "                                           <LayoutType.FIGURE>, <CellType.SPANNING>,\n",
      "                                           <LayoutType.CELL>),\n",
      "                   'RULE': 'ioa',\n",
      "                   'THRESHOLD': 0.3}}\u001B[0m\n",
      "You are using a model of type deformable_detr to instantiate a model of type . This is not supported for all configurations of models and can yield errors.\n",
      "\u001B[32m[0525 21:16.23 @_builder.py:204]\u001B[0m  \u001B[32mINF\u001B[0m  \u001B[97mLoading pretrained weights from Hugging Face hub (timm/resnet50.a1_in1k)\u001B[0m\n",
      "\u001B[32m[0525 21:16.23 @_hub.py:217]\u001B[0m  \u001B[32mINF\u001B[0m  \u001B[97m[timm/resnet50.a1_in1k] Safe alternative available for 'pytorch_model.bin' (as 'model.safetensors'). Loading weights using safetensors.\u001B[0m\n",
      "/Users/janismeyer/Projekte/deepdoctection/.venv/lib/python3.9/site-packages/torch/nn/modules/module.py:2025: UserWarning: for conv1.weight: copying from a non-meta parameter in the checkpoint to a meta parameter in the current model, which is a no-op. (Did you mean to pass `assign=True` to assign items in the state dictionary to their corresponding key in the module instead of copying them in place?)\n",
      "  warnings.warn(f'for {key}: copying from a non-meta parameter in the checkpoint to a meta '\n",
      "/Users/janismeyer/Projekte/deepdoctection/.venv/lib/python3.9/site-packages/torch/nn/modules/module.py:2025: UserWarning: for bn1.weight: copying from a non-meta parameter in the checkpoint to a meta parameter in the current model, which is a no-op. (Did you mean to pass `assign=True` to assign items in the state dictionary to their corresponding key in the module instead of copying them in place?)\n",
      "  warnings.warn(f'for {key}: copying from a non-meta parameter in the checkpoint to a meta '\n",
      "/Users/janismeyer/Projekte/deepdoctection/.venv/lib/python3.9/site-packages/torch/nn/modules/module.py:2025: UserWarning: for bn1.bias: copying from a non-meta parameter in the checkpoint to a meta parameter in the current model, which is a no-op. (Did you mean to pass `assign=True` to assign items in the state dictionary to their corresponding key in the module instead of copying them in place?)\n",
      "  warnings.warn(f'for {key}: copying from a non-meta parameter in the checkpoint to a meta '\n",
      "/Users/janismeyer/Projekte/deepdoctection/.venv/lib/python3.9/site-packages/torch/nn/modules/module.py:2025: UserWarning: for layer1.0.conv1.weight: copying from a non-meta parameter in the checkpoint to a meta parameter in the current model, which is a no-op. (Did you mean to pass `assign=True` to assign items in the state dictionary to their corresponding key in the module instead of copying them in place?)\n",
      "  warnings.warn(f'for {key}: copying from a non-meta parameter in the checkpoint to a meta '\n",
      "/Users/janismeyer/Projekte/deepdoctection/.venv/lib/python3.9/site-packages/torch/nn/modules/module.py:2025: UserWarning: for layer1.0.bn1.weight: copying from a non-meta parameter in the checkpoint to a meta parameter in the current model, which is a no-op. (Did you mean to pass `assign=True` to assign items in the state dictionary to their corresponding key in the module instead of copying them in place?)\n",
      "  warnings.warn(f'for {key}: copying from a non-meta parameter in the checkpoint to a meta '\n",
      "/Users/janismeyer/Projekte/deepdoctection/.venv/lib/python3.9/site-packages/torch/nn/modules/module.py:2025: UserWarning: for layer1.0.bn1.bias: copying from a non-meta parameter in the checkpoint to a meta parameter in the current model, which is a no-op. (Did you mean to pass `assign=True` to assign items in the state dictionary to their corresponding key in the module instead of copying them in place?)\n",
      "  warnings.warn(f'for {key}: copying from a non-meta parameter in the checkpoint to a meta '\n",
      "/Users/janismeyer/Projekte/deepdoctection/.venv/lib/python3.9/site-packages/torch/nn/modules/module.py:2025: UserWarning: for layer1.0.conv2.weight: copying from a non-meta parameter in the checkpoint to a meta parameter in the current model, which is a no-op. (Did you mean to pass `assign=True` to assign items in the state dictionary to their corresponding key in the module instead of copying them in place?)\n",
      "  warnings.warn(f'for {key}: copying from a non-meta parameter in the checkpoint to a meta '\n",
      "/Users/janismeyer/Projekte/deepdoctection/.venv/lib/python3.9/site-packages/torch/nn/modules/module.py:2025: UserWarning: for layer1.0.bn2.weight: copying from a non-meta parameter in the checkpoint to a meta parameter in the current model, which is a no-op. (Did you mean to pass `assign=True` to assign items in the state dictionary to their corresponding key in the module instead of copying them in place?)\n",
      "  warnings.warn(f'for {key}: copying from a non-meta parameter in the checkpoint to a meta '\n",
      "/Users/janismeyer/Projekte/deepdoctection/.venv/lib/python3.9/site-packages/torch/nn/modules/module.py:2025: UserWarning: for layer1.0.bn2.bias: copying from a non-meta parameter in the checkpoint to a meta parameter in the current model, which is a no-op. (Did you mean to pass `assign=True` to assign items in the state dictionary to their corresponding key in the module instead of copying them in place?)\n",
      "  warnings.warn(f'for {key}: copying from a non-meta parameter in the checkpoint to a meta '\n",
      "/Users/janismeyer/Projekte/deepdoctection/.venv/lib/python3.9/site-packages/torch/nn/modules/module.py:2025: UserWarning: for layer1.0.conv3.weight: copying from a non-meta parameter in the checkpoint to a meta parameter in the current model, which is a no-op. (Did you mean to pass `assign=True` to assign items in the state dictionary to their corresponding key in the module instead of copying them in place?)\n",
      "  warnings.warn(f'for {key}: copying from a non-meta parameter in the checkpoint to a meta '\n",
      "/Users/janismeyer/Projekte/deepdoctection/.venv/lib/python3.9/site-packages/torch/nn/modules/module.py:2025: UserWarning: for layer1.0.bn3.weight: copying from a non-meta parameter in the checkpoint to a meta parameter in the current model, which is a no-op. (Did you mean to pass `assign=True` to assign items in the state dictionary to their corresponding key in the module instead of copying them in place?)\n",
      "  warnings.warn(f'for {key}: copying from a non-meta parameter in the checkpoint to a meta '\n",
      "/Users/janismeyer/Projekte/deepdoctection/.venv/lib/python3.9/site-packages/torch/nn/modules/module.py:2025: UserWarning: for layer1.0.bn3.bias: copying from a non-meta parameter in the checkpoint to a meta parameter in the current model, which is a no-op. (Did you mean to pass `assign=True` to assign items in the state dictionary to their corresponding key in the module instead of copying them in place?)\n",
      "  warnings.warn(f'for {key}: copying from a non-meta parameter in the checkpoint to a meta '\n",
      "/Users/janismeyer/Projekte/deepdoctection/.venv/lib/python3.9/site-packages/torch/nn/modules/module.py:2025: UserWarning: for layer1.0.downsample.0.weight: copying from a non-meta parameter in the checkpoint to a meta parameter in the current model, which is a no-op. (Did you mean to pass `assign=True` to assign items in the state dictionary to their corresponding key in the module instead of copying them in place?)\n",
      "  warnings.warn(f'for {key}: copying from a non-meta parameter in the checkpoint to a meta '\n",
      "/Users/janismeyer/Projekte/deepdoctection/.venv/lib/python3.9/site-packages/torch/nn/modules/module.py:2025: UserWarning: for layer1.0.downsample.1.weight: copying from a non-meta parameter in the checkpoint to a meta parameter in the current model, which is a no-op. (Did you mean to pass `assign=True` to assign items in the state dictionary to their corresponding key in the module instead of copying them in place?)\n",
      "  warnings.warn(f'for {key}: copying from a non-meta parameter in the checkpoint to a meta '\n",
      "/Users/janismeyer/Projekte/deepdoctection/.venv/lib/python3.9/site-packages/torch/nn/modules/module.py:2025: UserWarning: for layer1.0.downsample.1.bias: copying from a non-meta parameter in the checkpoint to a meta parameter in the current model, which is a no-op. (Did you mean to pass `assign=True` to assign items in the state dictionary to their corresponding key in the module instead of copying them in place?)\n",
      "  warnings.warn(f'for {key}: copying from a non-meta parameter in the checkpoint to a meta '\n",
      "/Users/janismeyer/Projekte/deepdoctection/.venv/lib/python3.9/site-packages/torch/nn/modules/module.py:2025: UserWarning: for layer1.1.conv1.weight: copying from a non-meta parameter in the checkpoint to a meta parameter in the current model, which is a no-op. (Did you mean to pass `assign=True` to assign items in the state dictionary to their corresponding key in the module instead of copying them in place?)\n",
      "  warnings.warn(f'for {key}: copying from a non-meta parameter in the checkpoint to a meta '\n",
      "/Users/janismeyer/Projekte/deepdoctection/.venv/lib/python3.9/site-packages/torch/nn/modules/module.py:2025: UserWarning: for layer1.1.bn1.weight: copying from a non-meta parameter in the checkpoint to a meta parameter in the current model, which is a no-op. (Did you mean to pass `assign=True` to assign items in the state dictionary to their corresponding key in the module instead of copying them in place?)\n",
      "  warnings.warn(f'for {key}: copying from a non-meta parameter in the checkpoint to a meta '\n",
      "/Users/janismeyer/Projekte/deepdoctection/.venv/lib/python3.9/site-packages/torch/nn/modules/module.py:2025: UserWarning: for layer1.1.bn1.bias: copying from a non-meta parameter in the checkpoint to a meta parameter in the current model, which is a no-op. (Did you mean to pass `assign=True` to assign items in the state dictionary to their corresponding key in the module instead of copying them in place?)\n",
      "  warnings.warn(f'for {key}: copying from a non-meta parameter in the checkpoint to a meta '\n",
      "/Users/janismeyer/Projekte/deepdoctection/.venv/lib/python3.9/site-packages/torch/nn/modules/module.py:2025: UserWarning: for layer1.1.conv2.weight: copying from a non-meta parameter in the checkpoint to a meta parameter in the current model, which is a no-op. (Did you mean to pass `assign=True` to assign items in the state dictionary to their corresponding key in the module instead of copying them in place?)\n",
      "  warnings.warn(f'for {key}: copying from a non-meta parameter in the checkpoint to a meta '\n",
      "/Users/janismeyer/Projekte/deepdoctection/.venv/lib/python3.9/site-packages/torch/nn/modules/module.py:2025: UserWarning: for layer1.1.bn2.weight: copying from a non-meta parameter in the checkpoint to a meta parameter in the current model, which is a no-op. (Did you mean to pass `assign=True` to assign items in the state dictionary to their corresponding key in the module instead of copying them in place?)\n",
      "  warnings.warn(f'for {key}: copying from a non-meta parameter in the checkpoint to a meta '\n",
      "/Users/janismeyer/Projekte/deepdoctection/.venv/lib/python3.9/site-packages/torch/nn/modules/module.py:2025: UserWarning: for layer1.1.bn2.bias: copying from a non-meta parameter in the checkpoint to a meta parameter in the current model, which is a no-op. (Did you mean to pass `assign=True` to assign items in the state dictionary to their corresponding key in the module instead of copying them in place?)\n",
      "  warnings.warn(f'for {key}: copying from a non-meta parameter in the checkpoint to a meta '\n",
      "/Users/janismeyer/Projekte/deepdoctection/.venv/lib/python3.9/site-packages/torch/nn/modules/module.py:2025: UserWarning: for layer1.1.conv3.weight: copying from a non-meta parameter in the checkpoint to a meta parameter in the current model, which is a no-op. (Did you mean to pass `assign=True` to assign items in the state dictionary to their corresponding key in the module instead of copying them in place?)\n",
      "  warnings.warn(f'for {key}: copying from a non-meta parameter in the checkpoint to a meta '\n",
      "/Users/janismeyer/Projekte/deepdoctection/.venv/lib/python3.9/site-packages/torch/nn/modules/module.py:2025: UserWarning: for layer1.1.bn3.weight: copying from a non-meta parameter in the checkpoint to a meta parameter in the current model, which is a no-op. (Did you mean to pass `assign=True` to assign items in the state dictionary to their corresponding key in the module instead of copying them in place?)\n",
      "  warnings.warn(f'for {key}: copying from a non-meta parameter in the checkpoint to a meta '\n",
      "/Users/janismeyer/Projekte/deepdoctection/.venv/lib/python3.9/site-packages/torch/nn/modules/module.py:2025: UserWarning: for layer1.1.bn3.bias: copying from a non-meta parameter in the checkpoint to a meta parameter in the current model, which is a no-op. (Did you mean to pass `assign=True` to assign items in the state dictionary to their corresponding key in the module instead of copying them in place?)\n",
      "  warnings.warn(f'for {key}: copying from a non-meta parameter in the checkpoint to a meta '\n",
      "/Users/janismeyer/Projekte/deepdoctection/.venv/lib/python3.9/site-packages/torch/nn/modules/module.py:2025: UserWarning: for layer1.2.conv1.weight: copying from a non-meta parameter in the checkpoint to a meta parameter in the current model, which is a no-op. (Did you mean to pass `assign=True` to assign items in the state dictionary to their corresponding key in the module instead of copying them in place?)\n",
      "  warnings.warn(f'for {key}: copying from a non-meta parameter in the checkpoint to a meta '\n",
      "/Users/janismeyer/Projekte/deepdoctection/.venv/lib/python3.9/site-packages/torch/nn/modules/module.py:2025: UserWarning: for layer1.2.bn1.weight: copying from a non-meta parameter in the checkpoint to a meta parameter in the current model, which is a no-op. (Did you mean to pass `assign=True` to assign items in the state dictionary to their corresponding key in the module instead of copying them in place?)\n",
      "  warnings.warn(f'for {key}: copying from a non-meta parameter in the checkpoint to a meta '\n",
      "/Users/janismeyer/Projekte/deepdoctection/.venv/lib/python3.9/site-packages/torch/nn/modules/module.py:2025: UserWarning: for layer1.2.bn1.bias: copying from a non-meta parameter in the checkpoint to a meta parameter in the current model, which is a no-op. (Did you mean to pass `assign=True` to assign items in the state dictionary to their corresponding key in the module instead of copying them in place?)\n",
      "  warnings.warn(f'for {key}: copying from a non-meta parameter in the checkpoint to a meta '\n",
      "/Users/janismeyer/Projekte/deepdoctection/.venv/lib/python3.9/site-packages/torch/nn/modules/module.py:2025: UserWarning: for layer1.2.conv2.weight: copying from a non-meta parameter in the checkpoint to a meta parameter in the current model, which is a no-op. (Did you mean to pass `assign=True` to assign items in the state dictionary to their corresponding key in the module instead of copying them in place?)\n",
      "  warnings.warn(f'for {key}: copying from a non-meta parameter in the checkpoint to a meta '\n",
      "/Users/janismeyer/Projekte/deepdoctection/.venv/lib/python3.9/site-packages/torch/nn/modules/module.py:2025: UserWarning: for layer1.2.bn2.weight: copying from a non-meta parameter in the checkpoint to a meta parameter in the current model, which is a no-op. (Did you mean to pass `assign=True` to assign items in the state dictionary to their corresponding key in the module instead of copying them in place?)\n",
      "  warnings.warn(f'for {key}: copying from a non-meta parameter in the checkpoint to a meta '\n",
      "/Users/janismeyer/Projekte/deepdoctection/.venv/lib/python3.9/site-packages/torch/nn/modules/module.py:2025: UserWarning: for layer1.2.bn2.bias: copying from a non-meta parameter in the checkpoint to a meta parameter in the current model, which is a no-op. (Did you mean to pass `assign=True` to assign items in the state dictionary to their corresponding key in the module instead of copying them in place?)\n",
      "  warnings.warn(f'for {key}: copying from a non-meta parameter in the checkpoint to a meta '\n",
      "/Users/janismeyer/Projekte/deepdoctection/.venv/lib/python3.9/site-packages/torch/nn/modules/module.py:2025: UserWarning: for layer1.2.conv3.weight: copying from a non-meta parameter in the checkpoint to a meta parameter in the current model, which is a no-op. (Did you mean to pass `assign=True` to assign items in the state dictionary to their corresponding key in the module instead of copying them in place?)\n",
      "  warnings.warn(f'for {key}: copying from a non-meta parameter in the checkpoint to a meta '\n",
      "/Users/janismeyer/Projekte/deepdoctection/.venv/lib/python3.9/site-packages/torch/nn/modules/module.py:2025: UserWarning: for layer1.2.bn3.weight: copying from a non-meta parameter in the checkpoint to a meta parameter in the current model, which is a no-op. (Did you mean to pass `assign=True` to assign items in the state dictionary to their corresponding key in the module instead of copying them in place?)\n",
      "  warnings.warn(f'for {key}: copying from a non-meta parameter in the checkpoint to a meta '\n",
      "/Users/janismeyer/Projekte/deepdoctection/.venv/lib/python3.9/site-packages/torch/nn/modules/module.py:2025: UserWarning: for layer1.2.bn3.bias: copying from a non-meta parameter in the checkpoint to a meta parameter in the current model, which is a no-op. (Did you mean to pass `assign=True` to assign items in the state dictionary to their corresponding key in the module instead of copying them in place?)\n",
      "  warnings.warn(f'for {key}: copying from a non-meta parameter in the checkpoint to a meta '\n",
      "/Users/janismeyer/Projekte/deepdoctection/.venv/lib/python3.9/site-packages/torch/nn/modules/module.py:2025: UserWarning: for layer2.0.conv1.weight: copying from a non-meta parameter in the checkpoint to a meta parameter in the current model, which is a no-op. (Did you mean to pass `assign=True` to assign items in the state dictionary to their corresponding key in the module instead of copying them in place?)\n",
      "  warnings.warn(f'for {key}: copying from a non-meta parameter in the checkpoint to a meta '\n",
      "/Users/janismeyer/Projekte/deepdoctection/.venv/lib/python3.9/site-packages/torch/nn/modules/module.py:2025: UserWarning: for layer2.0.bn1.weight: copying from a non-meta parameter in the checkpoint to a meta parameter in the current model, which is a no-op. (Did you mean to pass `assign=True` to assign items in the state dictionary to their corresponding key in the module instead of copying them in place?)\n",
      "  warnings.warn(f'for {key}: copying from a non-meta parameter in the checkpoint to a meta '\n",
      "/Users/janismeyer/Projekte/deepdoctection/.venv/lib/python3.9/site-packages/torch/nn/modules/module.py:2025: UserWarning: for layer2.0.bn1.bias: copying from a non-meta parameter in the checkpoint to a meta parameter in the current model, which is a no-op. (Did you mean to pass `assign=True` to assign items in the state dictionary to their corresponding key in the module instead of copying them in place?)\n",
      "  warnings.warn(f'for {key}: copying from a non-meta parameter in the checkpoint to a meta '\n",
      "/Users/janismeyer/Projekte/deepdoctection/.venv/lib/python3.9/site-packages/torch/nn/modules/module.py:2025: UserWarning: for layer2.0.conv2.weight: copying from a non-meta parameter in the checkpoint to a meta parameter in the current model, which is a no-op. (Did you mean to pass `assign=True` to assign items in the state dictionary to their corresponding key in the module instead of copying them in place?)\n",
      "  warnings.warn(f'for {key}: copying from a non-meta parameter in the checkpoint to a meta '\n",
      "/Users/janismeyer/Projekte/deepdoctection/.venv/lib/python3.9/site-packages/torch/nn/modules/module.py:2025: UserWarning: for layer2.0.bn2.weight: copying from a non-meta parameter in the checkpoint to a meta parameter in the current model, which is a no-op. (Did you mean to pass `assign=True` to assign items in the state dictionary to their corresponding key in the module instead of copying them in place?)\n",
      "  warnings.warn(f'for {key}: copying from a non-meta parameter in the checkpoint to a meta '\n",
      "/Users/janismeyer/Projekte/deepdoctection/.venv/lib/python3.9/site-packages/torch/nn/modules/module.py:2025: UserWarning: for layer2.0.bn2.bias: copying from a non-meta parameter in the checkpoint to a meta parameter in the current model, which is a no-op. (Did you mean to pass `assign=True` to assign items in the state dictionary to their corresponding key in the module instead of copying them in place?)\n",
      "  warnings.warn(f'for {key}: copying from a non-meta parameter in the checkpoint to a meta '\n",
      "/Users/janismeyer/Projekte/deepdoctection/.venv/lib/python3.9/site-packages/torch/nn/modules/module.py:2025: UserWarning: for layer2.0.conv3.weight: copying from a non-meta parameter in the checkpoint to a meta parameter in the current model, which is a no-op. (Did you mean to pass `assign=True` to assign items in the state dictionary to their corresponding key in the module instead of copying them in place?)\n",
      "  warnings.warn(f'for {key}: copying from a non-meta parameter in the checkpoint to a meta '\n",
      "/Users/janismeyer/Projekte/deepdoctection/.venv/lib/python3.9/site-packages/torch/nn/modules/module.py:2025: UserWarning: for layer2.0.bn3.weight: copying from a non-meta parameter in the checkpoint to a meta parameter in the current model, which is a no-op. (Did you mean to pass `assign=True` to assign items in the state dictionary to their corresponding key in the module instead of copying them in place?)\n",
      "  warnings.warn(f'for {key}: copying from a non-meta parameter in the checkpoint to a meta '\n",
      "/Users/janismeyer/Projekte/deepdoctection/.venv/lib/python3.9/site-packages/torch/nn/modules/module.py:2025: UserWarning: for layer2.0.bn3.bias: copying from a non-meta parameter in the checkpoint to a meta parameter in the current model, which is a no-op. (Did you mean to pass `assign=True` to assign items in the state dictionary to their corresponding key in the module instead of copying them in place?)\n",
      "  warnings.warn(f'for {key}: copying from a non-meta parameter in the checkpoint to a meta '\n",
      "/Users/janismeyer/Projekte/deepdoctection/.venv/lib/python3.9/site-packages/torch/nn/modules/module.py:2025: UserWarning: for layer2.0.downsample.0.weight: copying from a non-meta parameter in the checkpoint to a meta parameter in the current model, which is a no-op. (Did you mean to pass `assign=True` to assign items in the state dictionary to their corresponding key in the module instead of copying them in place?)\n",
      "  warnings.warn(f'for {key}: copying from a non-meta parameter in the checkpoint to a meta '\n",
      "/Users/janismeyer/Projekte/deepdoctection/.venv/lib/python3.9/site-packages/torch/nn/modules/module.py:2025: UserWarning: for layer2.0.downsample.1.weight: copying from a non-meta parameter in the checkpoint to a meta parameter in the current model, which is a no-op. (Did you mean to pass `assign=True` to assign items in the state dictionary to their corresponding key in the module instead of copying them in place?)\n",
      "  warnings.warn(f'for {key}: copying from a non-meta parameter in the checkpoint to a meta '\n",
      "/Users/janismeyer/Projekte/deepdoctection/.venv/lib/python3.9/site-packages/torch/nn/modules/module.py:2025: UserWarning: for layer2.0.downsample.1.bias: copying from a non-meta parameter in the checkpoint to a meta parameter in the current model, which is a no-op. (Did you mean to pass `assign=True` to assign items in the state dictionary to their corresponding key in the module instead of copying them in place?)\n",
      "  warnings.warn(f'for {key}: copying from a non-meta parameter in the checkpoint to a meta '\n",
      "/Users/janismeyer/Projekte/deepdoctection/.venv/lib/python3.9/site-packages/torch/nn/modules/module.py:2025: UserWarning: for layer2.1.conv1.weight: copying from a non-meta parameter in the checkpoint to a meta parameter in the current model, which is a no-op. (Did you mean to pass `assign=True` to assign items in the state dictionary to their corresponding key in the module instead of copying them in place?)\n",
      "  warnings.warn(f'for {key}: copying from a non-meta parameter in the checkpoint to a meta '\n",
      "/Users/janismeyer/Projekte/deepdoctection/.venv/lib/python3.9/site-packages/torch/nn/modules/module.py:2025: UserWarning: for layer2.1.bn1.weight: copying from a non-meta parameter in the checkpoint to a meta parameter in the current model, which is a no-op. (Did you mean to pass `assign=True` to assign items in the state dictionary to their corresponding key in the module instead of copying them in place?)\n",
      "  warnings.warn(f'for {key}: copying from a non-meta parameter in the checkpoint to a meta '\n",
      "/Users/janismeyer/Projekte/deepdoctection/.venv/lib/python3.9/site-packages/torch/nn/modules/module.py:2025: UserWarning: for layer2.1.bn1.bias: copying from a non-meta parameter in the checkpoint to a meta parameter in the current model, which is a no-op. (Did you mean to pass `assign=True` to assign items in the state dictionary to their corresponding key in the module instead of copying them in place?)\n",
      "  warnings.warn(f'for {key}: copying from a non-meta parameter in the checkpoint to a meta '\n",
      "/Users/janismeyer/Projekte/deepdoctection/.venv/lib/python3.9/site-packages/torch/nn/modules/module.py:2025: UserWarning: for layer2.1.conv2.weight: copying from a non-meta parameter in the checkpoint to a meta parameter in the current model, which is a no-op. (Did you mean to pass `assign=True` to assign items in the state dictionary to their corresponding key in the module instead of copying them in place?)\n",
      "  warnings.warn(f'for {key}: copying from a non-meta parameter in the checkpoint to a meta '\n",
      "/Users/janismeyer/Projekte/deepdoctection/.venv/lib/python3.9/site-packages/torch/nn/modules/module.py:2025: UserWarning: for layer2.1.bn2.weight: copying from a non-meta parameter in the checkpoint to a meta parameter in the current model, which is a no-op. (Did you mean to pass `assign=True` to assign items in the state dictionary to their corresponding key in the module instead of copying them in place?)\n",
      "  warnings.warn(f'for {key}: copying from a non-meta parameter in the checkpoint to a meta '\n",
      "/Users/janismeyer/Projekte/deepdoctection/.venv/lib/python3.9/site-packages/torch/nn/modules/module.py:2025: UserWarning: for layer2.1.bn2.bias: copying from a non-meta parameter in the checkpoint to a meta parameter in the current model, which is a no-op. (Did you mean to pass `assign=True` to assign items in the state dictionary to their corresponding key in the module instead of copying them in place?)\n",
      "  warnings.warn(f'for {key}: copying from a non-meta parameter in the checkpoint to a meta '\n",
      "/Users/janismeyer/Projekte/deepdoctection/.venv/lib/python3.9/site-packages/torch/nn/modules/module.py:2025: UserWarning: for layer2.1.conv3.weight: copying from a non-meta parameter in the checkpoint to a meta parameter in the current model, which is a no-op. (Did you mean to pass `assign=True` to assign items in the state dictionary to their corresponding key in the module instead of copying them in place?)\n",
      "  warnings.warn(f'for {key}: copying from a non-meta parameter in the checkpoint to a meta '\n",
      "/Users/janismeyer/Projekte/deepdoctection/.venv/lib/python3.9/site-packages/torch/nn/modules/module.py:2025: UserWarning: for layer2.1.bn3.weight: copying from a non-meta parameter in the checkpoint to a meta parameter in the current model, which is a no-op. (Did you mean to pass `assign=True` to assign items in the state dictionary to their corresponding key in the module instead of copying them in place?)\n",
      "  warnings.warn(f'for {key}: copying from a non-meta parameter in the checkpoint to a meta '\n",
      "/Users/janismeyer/Projekte/deepdoctection/.venv/lib/python3.9/site-packages/torch/nn/modules/module.py:2025: UserWarning: for layer2.1.bn3.bias: copying from a non-meta parameter in the checkpoint to a meta parameter in the current model, which is a no-op. (Did you mean to pass `assign=True` to assign items in the state dictionary to their corresponding key in the module instead of copying them in place?)\n",
      "  warnings.warn(f'for {key}: copying from a non-meta parameter in the checkpoint to a meta '\n",
      "/Users/janismeyer/Projekte/deepdoctection/.venv/lib/python3.9/site-packages/torch/nn/modules/module.py:2025: UserWarning: for layer2.2.conv1.weight: copying from a non-meta parameter in the checkpoint to a meta parameter in the current model, which is a no-op. (Did you mean to pass `assign=True` to assign items in the state dictionary to their corresponding key in the module instead of copying them in place?)\n",
      "  warnings.warn(f'for {key}: copying from a non-meta parameter in the checkpoint to a meta '\n",
      "/Users/janismeyer/Projekte/deepdoctection/.venv/lib/python3.9/site-packages/torch/nn/modules/module.py:2025: UserWarning: for layer2.2.bn1.weight: copying from a non-meta parameter in the checkpoint to a meta parameter in the current model, which is a no-op. (Did you mean to pass `assign=True` to assign items in the state dictionary to their corresponding key in the module instead of copying them in place?)\n",
      "  warnings.warn(f'for {key}: copying from a non-meta parameter in the checkpoint to a meta '\n",
      "/Users/janismeyer/Projekte/deepdoctection/.venv/lib/python3.9/site-packages/torch/nn/modules/module.py:2025: UserWarning: for layer2.2.bn1.bias: copying from a non-meta parameter in the checkpoint to a meta parameter in the current model, which is a no-op. (Did you mean to pass `assign=True` to assign items in the state dictionary to their corresponding key in the module instead of copying them in place?)\n",
      "  warnings.warn(f'for {key}: copying from a non-meta parameter in the checkpoint to a meta '\n",
      "/Users/janismeyer/Projekte/deepdoctection/.venv/lib/python3.9/site-packages/torch/nn/modules/module.py:2025: UserWarning: for layer2.2.conv2.weight: copying from a non-meta parameter in the checkpoint to a meta parameter in the current model, which is a no-op. (Did you mean to pass `assign=True` to assign items in the state dictionary to their corresponding key in the module instead of copying them in place?)\n",
      "  warnings.warn(f'for {key}: copying from a non-meta parameter in the checkpoint to a meta '\n",
      "/Users/janismeyer/Projekte/deepdoctection/.venv/lib/python3.9/site-packages/torch/nn/modules/module.py:2025: UserWarning: for layer2.2.bn2.weight: copying from a non-meta parameter in the checkpoint to a meta parameter in the current model, which is a no-op. (Did you mean to pass `assign=True` to assign items in the state dictionary to their corresponding key in the module instead of copying them in place?)\n",
      "  warnings.warn(f'for {key}: copying from a non-meta parameter in the checkpoint to a meta '\n",
      "/Users/janismeyer/Projekte/deepdoctection/.venv/lib/python3.9/site-packages/torch/nn/modules/module.py:2025: UserWarning: for layer2.2.bn2.bias: copying from a non-meta parameter in the checkpoint to a meta parameter in the current model, which is a no-op. (Did you mean to pass `assign=True` to assign items in the state dictionary to their corresponding key in the module instead of copying them in place?)\n",
      "  warnings.warn(f'for {key}: copying from a non-meta parameter in the checkpoint to a meta '\n",
      "/Users/janismeyer/Projekte/deepdoctection/.venv/lib/python3.9/site-packages/torch/nn/modules/module.py:2025: UserWarning: for layer2.2.conv3.weight: copying from a non-meta parameter in the checkpoint to a meta parameter in the current model, which is a no-op. (Did you mean to pass `assign=True` to assign items in the state dictionary to their corresponding key in the module instead of copying them in place?)\n",
      "  warnings.warn(f'for {key}: copying from a non-meta parameter in the checkpoint to a meta '\n",
      "/Users/janismeyer/Projekte/deepdoctection/.venv/lib/python3.9/site-packages/torch/nn/modules/module.py:2025: UserWarning: for layer2.2.bn3.weight: copying from a non-meta parameter in the checkpoint to a meta parameter in the current model, which is a no-op. (Did you mean to pass `assign=True` to assign items in the state dictionary to their corresponding key in the module instead of copying them in place?)\n",
      "  warnings.warn(f'for {key}: copying from a non-meta parameter in the checkpoint to a meta '\n",
      "/Users/janismeyer/Projekte/deepdoctection/.venv/lib/python3.9/site-packages/torch/nn/modules/module.py:2025: UserWarning: for layer2.2.bn3.bias: copying from a non-meta parameter in the checkpoint to a meta parameter in the current model, which is a no-op. (Did you mean to pass `assign=True` to assign items in the state dictionary to their corresponding key in the module instead of copying them in place?)\n",
      "  warnings.warn(f'for {key}: copying from a non-meta parameter in the checkpoint to a meta '\n",
      "/Users/janismeyer/Projekte/deepdoctection/.venv/lib/python3.9/site-packages/torch/nn/modules/module.py:2025: UserWarning: for layer2.3.conv1.weight: copying from a non-meta parameter in the checkpoint to a meta parameter in the current model, which is a no-op. (Did you mean to pass `assign=True` to assign items in the state dictionary to their corresponding key in the module instead of copying them in place?)\n",
      "  warnings.warn(f'for {key}: copying from a non-meta parameter in the checkpoint to a meta '\n",
      "/Users/janismeyer/Projekte/deepdoctection/.venv/lib/python3.9/site-packages/torch/nn/modules/module.py:2025: UserWarning: for layer2.3.bn1.weight: copying from a non-meta parameter in the checkpoint to a meta parameter in the current model, which is a no-op. (Did you mean to pass `assign=True` to assign items in the state dictionary to their corresponding key in the module instead of copying them in place?)\n",
      "  warnings.warn(f'for {key}: copying from a non-meta parameter in the checkpoint to a meta '\n",
      "/Users/janismeyer/Projekte/deepdoctection/.venv/lib/python3.9/site-packages/torch/nn/modules/module.py:2025: UserWarning: for layer2.3.bn1.bias: copying from a non-meta parameter in the checkpoint to a meta parameter in the current model, which is a no-op. (Did you mean to pass `assign=True` to assign items in the state dictionary to their corresponding key in the module instead of copying them in place?)\n",
      "  warnings.warn(f'for {key}: copying from a non-meta parameter in the checkpoint to a meta '\n",
      "/Users/janismeyer/Projekte/deepdoctection/.venv/lib/python3.9/site-packages/torch/nn/modules/module.py:2025: UserWarning: for layer2.3.conv2.weight: copying from a non-meta parameter in the checkpoint to a meta parameter in the current model, which is a no-op. (Did you mean to pass `assign=True` to assign items in the state dictionary to their corresponding key in the module instead of copying them in place?)\n",
      "  warnings.warn(f'for {key}: copying from a non-meta parameter in the checkpoint to a meta '\n",
      "/Users/janismeyer/Projekte/deepdoctection/.venv/lib/python3.9/site-packages/torch/nn/modules/module.py:2025: UserWarning: for layer2.3.bn2.weight: copying from a non-meta parameter in the checkpoint to a meta parameter in the current model, which is a no-op. (Did you mean to pass `assign=True` to assign items in the state dictionary to their corresponding key in the module instead of copying them in place?)\n",
      "  warnings.warn(f'for {key}: copying from a non-meta parameter in the checkpoint to a meta '\n",
      "/Users/janismeyer/Projekte/deepdoctection/.venv/lib/python3.9/site-packages/torch/nn/modules/module.py:2025: UserWarning: for layer2.3.bn2.bias: copying from a non-meta parameter in the checkpoint to a meta parameter in the current model, which is a no-op. (Did you mean to pass `assign=True` to assign items in the state dictionary to their corresponding key in the module instead of copying them in place?)\n",
      "  warnings.warn(f'for {key}: copying from a non-meta parameter in the checkpoint to a meta '\n",
      "/Users/janismeyer/Projekte/deepdoctection/.venv/lib/python3.9/site-packages/torch/nn/modules/module.py:2025: UserWarning: for layer2.3.conv3.weight: copying from a non-meta parameter in the checkpoint to a meta parameter in the current model, which is a no-op. (Did you mean to pass `assign=True` to assign items in the state dictionary to their corresponding key in the module instead of copying them in place?)\n",
      "  warnings.warn(f'for {key}: copying from a non-meta parameter in the checkpoint to a meta '\n",
      "/Users/janismeyer/Projekte/deepdoctection/.venv/lib/python3.9/site-packages/torch/nn/modules/module.py:2025: UserWarning: for layer2.3.bn3.weight: copying from a non-meta parameter in the checkpoint to a meta parameter in the current model, which is a no-op. (Did you mean to pass `assign=True` to assign items in the state dictionary to their corresponding key in the module instead of copying them in place?)\n",
      "  warnings.warn(f'for {key}: copying from a non-meta parameter in the checkpoint to a meta '\n",
      "/Users/janismeyer/Projekte/deepdoctection/.venv/lib/python3.9/site-packages/torch/nn/modules/module.py:2025: UserWarning: for layer2.3.bn3.bias: copying from a non-meta parameter in the checkpoint to a meta parameter in the current model, which is a no-op. (Did you mean to pass `assign=True` to assign items in the state dictionary to their corresponding key in the module instead of copying them in place?)\n",
      "  warnings.warn(f'for {key}: copying from a non-meta parameter in the checkpoint to a meta '\n",
      "/Users/janismeyer/Projekte/deepdoctection/.venv/lib/python3.9/site-packages/torch/nn/modules/module.py:2025: UserWarning: for layer3.0.conv1.weight: copying from a non-meta parameter in the checkpoint to a meta parameter in the current model, which is a no-op. (Did you mean to pass `assign=True` to assign items in the state dictionary to their corresponding key in the module instead of copying them in place?)\n",
      "  warnings.warn(f'for {key}: copying from a non-meta parameter in the checkpoint to a meta '\n",
      "/Users/janismeyer/Projekte/deepdoctection/.venv/lib/python3.9/site-packages/torch/nn/modules/module.py:2025: UserWarning: for layer3.0.bn1.weight: copying from a non-meta parameter in the checkpoint to a meta parameter in the current model, which is a no-op. (Did you mean to pass `assign=True` to assign items in the state dictionary to their corresponding key in the module instead of copying them in place?)\n",
      "  warnings.warn(f'for {key}: copying from a non-meta parameter in the checkpoint to a meta '\n",
      "/Users/janismeyer/Projekte/deepdoctection/.venv/lib/python3.9/site-packages/torch/nn/modules/module.py:2025: UserWarning: for layer3.0.bn1.bias: copying from a non-meta parameter in the checkpoint to a meta parameter in the current model, which is a no-op. (Did you mean to pass `assign=True` to assign items in the state dictionary to their corresponding key in the module instead of copying them in place?)\n",
      "  warnings.warn(f'for {key}: copying from a non-meta parameter in the checkpoint to a meta '\n",
      "/Users/janismeyer/Projekte/deepdoctection/.venv/lib/python3.9/site-packages/torch/nn/modules/module.py:2025: UserWarning: for layer3.0.conv2.weight: copying from a non-meta parameter in the checkpoint to a meta parameter in the current model, which is a no-op. (Did you mean to pass `assign=True` to assign items in the state dictionary to their corresponding key in the module instead of copying them in place?)\n",
      "  warnings.warn(f'for {key}: copying from a non-meta parameter in the checkpoint to a meta '\n",
      "/Users/janismeyer/Projekte/deepdoctection/.venv/lib/python3.9/site-packages/torch/nn/modules/module.py:2025: UserWarning: for layer3.0.bn2.weight: copying from a non-meta parameter in the checkpoint to a meta parameter in the current model, which is a no-op. (Did you mean to pass `assign=True` to assign items in the state dictionary to their corresponding key in the module instead of copying them in place?)\n",
      "  warnings.warn(f'for {key}: copying from a non-meta parameter in the checkpoint to a meta '\n",
      "/Users/janismeyer/Projekte/deepdoctection/.venv/lib/python3.9/site-packages/torch/nn/modules/module.py:2025: UserWarning: for layer3.0.bn2.bias: copying from a non-meta parameter in the checkpoint to a meta parameter in the current model, which is a no-op. (Did you mean to pass `assign=True` to assign items in the state dictionary to their corresponding key in the module instead of copying them in place?)\n",
      "  warnings.warn(f'for {key}: copying from a non-meta parameter in the checkpoint to a meta '\n",
      "/Users/janismeyer/Projekte/deepdoctection/.venv/lib/python3.9/site-packages/torch/nn/modules/module.py:2025: UserWarning: for layer3.0.conv3.weight: copying from a non-meta parameter in the checkpoint to a meta parameter in the current model, which is a no-op. (Did you mean to pass `assign=True` to assign items in the state dictionary to their corresponding key in the module instead of copying them in place?)\n",
      "  warnings.warn(f'for {key}: copying from a non-meta parameter in the checkpoint to a meta '\n",
      "/Users/janismeyer/Projekte/deepdoctection/.venv/lib/python3.9/site-packages/torch/nn/modules/module.py:2025: UserWarning: for layer3.0.bn3.weight: copying from a non-meta parameter in the checkpoint to a meta parameter in the current model, which is a no-op. (Did you mean to pass `assign=True` to assign items in the state dictionary to their corresponding key in the module instead of copying them in place?)\n",
      "  warnings.warn(f'for {key}: copying from a non-meta parameter in the checkpoint to a meta '\n",
      "/Users/janismeyer/Projekte/deepdoctection/.venv/lib/python3.9/site-packages/torch/nn/modules/module.py:2025: UserWarning: for layer3.0.bn3.bias: copying from a non-meta parameter in the checkpoint to a meta parameter in the current model, which is a no-op. (Did you mean to pass `assign=True` to assign items in the state dictionary to their corresponding key in the module instead of copying them in place?)\n",
      "  warnings.warn(f'for {key}: copying from a non-meta parameter in the checkpoint to a meta '\n",
      "/Users/janismeyer/Projekte/deepdoctection/.venv/lib/python3.9/site-packages/torch/nn/modules/module.py:2025: UserWarning: for layer3.0.downsample.0.weight: copying from a non-meta parameter in the checkpoint to a meta parameter in the current model, which is a no-op. (Did you mean to pass `assign=True` to assign items in the state dictionary to their corresponding key in the module instead of copying them in place?)\n",
      "  warnings.warn(f'for {key}: copying from a non-meta parameter in the checkpoint to a meta '\n",
      "/Users/janismeyer/Projekte/deepdoctection/.venv/lib/python3.9/site-packages/torch/nn/modules/module.py:2025: UserWarning: for layer3.0.downsample.1.weight: copying from a non-meta parameter in the checkpoint to a meta parameter in the current model, which is a no-op. (Did you mean to pass `assign=True` to assign items in the state dictionary to their corresponding key in the module instead of copying them in place?)\n",
      "  warnings.warn(f'for {key}: copying from a non-meta parameter in the checkpoint to a meta '\n",
      "/Users/janismeyer/Projekte/deepdoctection/.venv/lib/python3.9/site-packages/torch/nn/modules/module.py:2025: UserWarning: for layer3.0.downsample.1.bias: copying from a non-meta parameter in the checkpoint to a meta parameter in the current model, which is a no-op. (Did you mean to pass `assign=True` to assign items in the state dictionary to their corresponding key in the module instead of copying them in place?)\n",
      "  warnings.warn(f'for {key}: copying from a non-meta parameter in the checkpoint to a meta '\n",
      "/Users/janismeyer/Projekte/deepdoctection/.venv/lib/python3.9/site-packages/torch/nn/modules/module.py:2025: UserWarning: for layer3.1.conv1.weight: copying from a non-meta parameter in the checkpoint to a meta parameter in the current model, which is a no-op. (Did you mean to pass `assign=True` to assign items in the state dictionary to their corresponding key in the module instead of copying them in place?)\n",
      "  warnings.warn(f'for {key}: copying from a non-meta parameter in the checkpoint to a meta '\n",
      "/Users/janismeyer/Projekte/deepdoctection/.venv/lib/python3.9/site-packages/torch/nn/modules/module.py:2025: UserWarning: for layer3.1.bn1.weight: copying from a non-meta parameter in the checkpoint to a meta parameter in the current model, which is a no-op. (Did you mean to pass `assign=True` to assign items in the state dictionary to their corresponding key in the module instead of copying them in place?)\n",
      "  warnings.warn(f'for {key}: copying from a non-meta parameter in the checkpoint to a meta '\n",
      "/Users/janismeyer/Projekte/deepdoctection/.venv/lib/python3.9/site-packages/torch/nn/modules/module.py:2025: UserWarning: for layer3.1.bn1.bias: copying from a non-meta parameter in the checkpoint to a meta parameter in the current model, which is a no-op. (Did you mean to pass `assign=True` to assign items in the state dictionary to their corresponding key in the module instead of copying them in place?)\n",
      "  warnings.warn(f'for {key}: copying from a non-meta parameter in the checkpoint to a meta '\n",
      "/Users/janismeyer/Projekte/deepdoctection/.venv/lib/python3.9/site-packages/torch/nn/modules/module.py:2025: UserWarning: for layer3.1.conv2.weight: copying from a non-meta parameter in the checkpoint to a meta parameter in the current model, which is a no-op. (Did you mean to pass `assign=True` to assign items in the state dictionary to their corresponding key in the module instead of copying them in place?)\n",
      "  warnings.warn(f'for {key}: copying from a non-meta parameter in the checkpoint to a meta '\n",
      "/Users/janismeyer/Projekte/deepdoctection/.venv/lib/python3.9/site-packages/torch/nn/modules/module.py:2025: UserWarning: for layer3.1.bn2.weight: copying from a non-meta parameter in the checkpoint to a meta parameter in the current model, which is a no-op. (Did you mean to pass `assign=True` to assign items in the state dictionary to their corresponding key in the module instead of copying them in place?)\n",
      "  warnings.warn(f'for {key}: copying from a non-meta parameter in the checkpoint to a meta '\n",
      "/Users/janismeyer/Projekte/deepdoctection/.venv/lib/python3.9/site-packages/torch/nn/modules/module.py:2025: UserWarning: for layer3.1.bn2.bias: copying from a non-meta parameter in the checkpoint to a meta parameter in the current model, which is a no-op. (Did you mean to pass `assign=True` to assign items in the state dictionary to their corresponding key in the module instead of copying them in place?)\n",
      "  warnings.warn(f'for {key}: copying from a non-meta parameter in the checkpoint to a meta '\n",
      "/Users/janismeyer/Projekte/deepdoctection/.venv/lib/python3.9/site-packages/torch/nn/modules/module.py:2025: UserWarning: for layer3.1.conv3.weight: copying from a non-meta parameter in the checkpoint to a meta parameter in the current model, which is a no-op. (Did you mean to pass `assign=True` to assign items in the state dictionary to their corresponding key in the module instead of copying them in place?)\n",
      "  warnings.warn(f'for {key}: copying from a non-meta parameter in the checkpoint to a meta '\n",
      "/Users/janismeyer/Projekte/deepdoctection/.venv/lib/python3.9/site-packages/torch/nn/modules/module.py:2025: UserWarning: for layer3.1.bn3.weight: copying from a non-meta parameter in the checkpoint to a meta parameter in the current model, which is a no-op. (Did you mean to pass `assign=True` to assign items in the state dictionary to their corresponding key in the module instead of copying them in place?)\n",
      "  warnings.warn(f'for {key}: copying from a non-meta parameter in the checkpoint to a meta '\n",
      "/Users/janismeyer/Projekte/deepdoctection/.venv/lib/python3.9/site-packages/torch/nn/modules/module.py:2025: UserWarning: for layer3.1.bn3.bias: copying from a non-meta parameter in the checkpoint to a meta parameter in the current model, which is a no-op. (Did you mean to pass `assign=True` to assign items in the state dictionary to their corresponding key in the module instead of copying them in place?)\n",
      "  warnings.warn(f'for {key}: copying from a non-meta parameter in the checkpoint to a meta '\n",
      "/Users/janismeyer/Projekte/deepdoctection/.venv/lib/python3.9/site-packages/torch/nn/modules/module.py:2025: UserWarning: for layer3.2.conv1.weight: copying from a non-meta parameter in the checkpoint to a meta parameter in the current model, which is a no-op. (Did you mean to pass `assign=True` to assign items in the state dictionary to their corresponding key in the module instead of copying them in place?)\n",
      "  warnings.warn(f'for {key}: copying from a non-meta parameter in the checkpoint to a meta '\n",
      "/Users/janismeyer/Projekte/deepdoctection/.venv/lib/python3.9/site-packages/torch/nn/modules/module.py:2025: UserWarning: for layer3.2.bn1.weight: copying from a non-meta parameter in the checkpoint to a meta parameter in the current model, which is a no-op. (Did you mean to pass `assign=True` to assign items in the state dictionary to their corresponding key in the module instead of copying them in place?)\n",
      "  warnings.warn(f'for {key}: copying from a non-meta parameter in the checkpoint to a meta '\n",
      "/Users/janismeyer/Projekte/deepdoctection/.venv/lib/python3.9/site-packages/torch/nn/modules/module.py:2025: UserWarning: for layer3.2.bn1.bias: copying from a non-meta parameter in the checkpoint to a meta parameter in the current model, which is a no-op. (Did you mean to pass `assign=True` to assign items in the state dictionary to their corresponding key in the module instead of copying them in place?)\n",
      "  warnings.warn(f'for {key}: copying from a non-meta parameter in the checkpoint to a meta '\n",
      "/Users/janismeyer/Projekte/deepdoctection/.venv/lib/python3.9/site-packages/torch/nn/modules/module.py:2025: UserWarning: for layer3.2.conv2.weight: copying from a non-meta parameter in the checkpoint to a meta parameter in the current model, which is a no-op. (Did you mean to pass `assign=True` to assign items in the state dictionary to their corresponding key in the module instead of copying them in place?)\n",
      "  warnings.warn(f'for {key}: copying from a non-meta parameter in the checkpoint to a meta '\n",
      "/Users/janismeyer/Projekte/deepdoctection/.venv/lib/python3.9/site-packages/torch/nn/modules/module.py:2025: UserWarning: for layer3.2.bn2.weight: copying from a non-meta parameter in the checkpoint to a meta parameter in the current model, which is a no-op. (Did you mean to pass `assign=True` to assign items in the state dictionary to their corresponding key in the module instead of copying them in place?)\n",
      "  warnings.warn(f'for {key}: copying from a non-meta parameter in the checkpoint to a meta '\n",
      "/Users/janismeyer/Projekte/deepdoctection/.venv/lib/python3.9/site-packages/torch/nn/modules/module.py:2025: UserWarning: for layer3.2.bn2.bias: copying from a non-meta parameter in the checkpoint to a meta parameter in the current model, which is a no-op. (Did you mean to pass `assign=True` to assign items in the state dictionary to their corresponding key in the module instead of copying them in place?)\n",
      "  warnings.warn(f'for {key}: copying from a non-meta parameter in the checkpoint to a meta '\n",
      "/Users/janismeyer/Projekte/deepdoctection/.venv/lib/python3.9/site-packages/torch/nn/modules/module.py:2025: UserWarning: for layer3.2.conv3.weight: copying from a non-meta parameter in the checkpoint to a meta parameter in the current model, which is a no-op. (Did you mean to pass `assign=True` to assign items in the state dictionary to their corresponding key in the module instead of copying them in place?)\n",
      "  warnings.warn(f'for {key}: copying from a non-meta parameter in the checkpoint to a meta '\n",
      "/Users/janismeyer/Projekte/deepdoctection/.venv/lib/python3.9/site-packages/torch/nn/modules/module.py:2025: UserWarning: for layer3.2.bn3.weight: copying from a non-meta parameter in the checkpoint to a meta parameter in the current model, which is a no-op. (Did you mean to pass `assign=True` to assign items in the state dictionary to their corresponding key in the module instead of copying them in place?)\n",
      "  warnings.warn(f'for {key}: copying from a non-meta parameter in the checkpoint to a meta '\n",
      "/Users/janismeyer/Projekte/deepdoctection/.venv/lib/python3.9/site-packages/torch/nn/modules/module.py:2025: UserWarning: for layer3.2.bn3.bias: copying from a non-meta parameter in the checkpoint to a meta parameter in the current model, which is a no-op. (Did you mean to pass `assign=True` to assign items in the state dictionary to their corresponding key in the module instead of copying them in place?)\n",
      "  warnings.warn(f'for {key}: copying from a non-meta parameter in the checkpoint to a meta '\n",
      "/Users/janismeyer/Projekte/deepdoctection/.venv/lib/python3.9/site-packages/torch/nn/modules/module.py:2025: UserWarning: for layer3.3.conv1.weight: copying from a non-meta parameter in the checkpoint to a meta parameter in the current model, which is a no-op. (Did you mean to pass `assign=True` to assign items in the state dictionary to their corresponding key in the module instead of copying them in place?)\n",
      "  warnings.warn(f'for {key}: copying from a non-meta parameter in the checkpoint to a meta '\n",
      "/Users/janismeyer/Projekte/deepdoctection/.venv/lib/python3.9/site-packages/torch/nn/modules/module.py:2025: UserWarning: for layer3.3.bn1.weight: copying from a non-meta parameter in the checkpoint to a meta parameter in the current model, which is a no-op. (Did you mean to pass `assign=True` to assign items in the state dictionary to their corresponding key in the module instead of copying them in place?)\n",
      "  warnings.warn(f'for {key}: copying from a non-meta parameter in the checkpoint to a meta '\n",
      "/Users/janismeyer/Projekte/deepdoctection/.venv/lib/python3.9/site-packages/torch/nn/modules/module.py:2025: UserWarning: for layer3.3.bn1.bias: copying from a non-meta parameter in the checkpoint to a meta parameter in the current model, which is a no-op. (Did you mean to pass `assign=True` to assign items in the state dictionary to their corresponding key in the module instead of copying them in place?)\n",
      "  warnings.warn(f'for {key}: copying from a non-meta parameter in the checkpoint to a meta '\n",
      "/Users/janismeyer/Projekte/deepdoctection/.venv/lib/python3.9/site-packages/torch/nn/modules/module.py:2025: UserWarning: for layer3.3.conv2.weight: copying from a non-meta parameter in the checkpoint to a meta parameter in the current model, which is a no-op. (Did you mean to pass `assign=True` to assign items in the state dictionary to their corresponding key in the module instead of copying them in place?)\n",
      "  warnings.warn(f'for {key}: copying from a non-meta parameter in the checkpoint to a meta '\n",
      "/Users/janismeyer/Projekte/deepdoctection/.venv/lib/python3.9/site-packages/torch/nn/modules/module.py:2025: UserWarning: for layer3.3.bn2.weight: copying from a non-meta parameter in the checkpoint to a meta parameter in the current model, which is a no-op. (Did you mean to pass `assign=True` to assign items in the state dictionary to their corresponding key in the module instead of copying them in place?)\n",
      "  warnings.warn(f'for {key}: copying from a non-meta parameter in the checkpoint to a meta '\n",
      "/Users/janismeyer/Projekte/deepdoctection/.venv/lib/python3.9/site-packages/torch/nn/modules/module.py:2025: UserWarning: for layer3.3.bn2.bias: copying from a non-meta parameter in the checkpoint to a meta parameter in the current model, which is a no-op. (Did you mean to pass `assign=True` to assign items in the state dictionary to their corresponding key in the module instead of copying them in place?)\n",
      "  warnings.warn(f'for {key}: copying from a non-meta parameter in the checkpoint to a meta '\n",
      "/Users/janismeyer/Projekte/deepdoctection/.venv/lib/python3.9/site-packages/torch/nn/modules/module.py:2025: UserWarning: for layer3.3.conv3.weight: copying from a non-meta parameter in the checkpoint to a meta parameter in the current model, which is a no-op. (Did you mean to pass `assign=True` to assign items in the state dictionary to their corresponding key in the module instead of copying them in place?)\n",
      "  warnings.warn(f'for {key}: copying from a non-meta parameter in the checkpoint to a meta '\n",
      "/Users/janismeyer/Projekte/deepdoctection/.venv/lib/python3.9/site-packages/torch/nn/modules/module.py:2025: UserWarning: for layer3.3.bn3.weight: copying from a non-meta parameter in the checkpoint to a meta parameter in the current model, which is a no-op. (Did you mean to pass `assign=True` to assign items in the state dictionary to their corresponding key in the module instead of copying them in place?)\n",
      "  warnings.warn(f'for {key}: copying from a non-meta parameter in the checkpoint to a meta '\n",
      "/Users/janismeyer/Projekte/deepdoctection/.venv/lib/python3.9/site-packages/torch/nn/modules/module.py:2025: UserWarning: for layer3.3.bn3.bias: copying from a non-meta parameter in the checkpoint to a meta parameter in the current model, which is a no-op. (Did you mean to pass `assign=True` to assign items in the state dictionary to their corresponding key in the module instead of copying them in place?)\n",
      "  warnings.warn(f'for {key}: copying from a non-meta parameter in the checkpoint to a meta '\n",
      "/Users/janismeyer/Projekte/deepdoctection/.venv/lib/python3.9/site-packages/torch/nn/modules/module.py:2025: UserWarning: for layer3.4.conv1.weight: copying from a non-meta parameter in the checkpoint to a meta parameter in the current model, which is a no-op. (Did you mean to pass `assign=True` to assign items in the state dictionary to their corresponding key in the module instead of copying them in place?)\n",
      "  warnings.warn(f'for {key}: copying from a non-meta parameter in the checkpoint to a meta '\n",
      "/Users/janismeyer/Projekte/deepdoctection/.venv/lib/python3.9/site-packages/torch/nn/modules/module.py:2025: UserWarning: for layer3.4.bn1.weight: copying from a non-meta parameter in the checkpoint to a meta parameter in the current model, which is a no-op. (Did you mean to pass `assign=True` to assign items in the state dictionary to their corresponding key in the module instead of copying them in place?)\n",
      "  warnings.warn(f'for {key}: copying from a non-meta parameter in the checkpoint to a meta '\n",
      "/Users/janismeyer/Projekte/deepdoctection/.venv/lib/python3.9/site-packages/torch/nn/modules/module.py:2025: UserWarning: for layer3.4.bn1.bias: copying from a non-meta parameter in the checkpoint to a meta parameter in the current model, which is a no-op. (Did you mean to pass `assign=True` to assign items in the state dictionary to their corresponding key in the module instead of copying them in place?)\n",
      "  warnings.warn(f'for {key}: copying from a non-meta parameter in the checkpoint to a meta '\n",
      "/Users/janismeyer/Projekte/deepdoctection/.venv/lib/python3.9/site-packages/torch/nn/modules/module.py:2025: UserWarning: for layer3.4.conv2.weight: copying from a non-meta parameter in the checkpoint to a meta parameter in the current model, which is a no-op. (Did you mean to pass `assign=True` to assign items in the state dictionary to their corresponding key in the module instead of copying them in place?)\n",
      "  warnings.warn(f'for {key}: copying from a non-meta parameter in the checkpoint to a meta '\n",
      "/Users/janismeyer/Projekte/deepdoctection/.venv/lib/python3.9/site-packages/torch/nn/modules/module.py:2025: UserWarning: for layer3.4.bn2.weight: copying from a non-meta parameter in the checkpoint to a meta parameter in the current model, which is a no-op. (Did you mean to pass `assign=True` to assign items in the state dictionary to their corresponding key in the module instead of copying them in place?)\n",
      "  warnings.warn(f'for {key}: copying from a non-meta parameter in the checkpoint to a meta '\n",
      "/Users/janismeyer/Projekte/deepdoctection/.venv/lib/python3.9/site-packages/torch/nn/modules/module.py:2025: UserWarning: for layer3.4.bn2.bias: copying from a non-meta parameter in the checkpoint to a meta parameter in the current model, which is a no-op. (Did you mean to pass `assign=True` to assign items in the state dictionary to their corresponding key in the module instead of copying them in place?)\n",
      "  warnings.warn(f'for {key}: copying from a non-meta parameter in the checkpoint to a meta '\n",
      "/Users/janismeyer/Projekte/deepdoctection/.venv/lib/python3.9/site-packages/torch/nn/modules/module.py:2025: UserWarning: for layer3.4.conv3.weight: copying from a non-meta parameter in the checkpoint to a meta parameter in the current model, which is a no-op. (Did you mean to pass `assign=True` to assign items in the state dictionary to their corresponding key in the module instead of copying them in place?)\n",
      "  warnings.warn(f'for {key}: copying from a non-meta parameter in the checkpoint to a meta '\n",
      "/Users/janismeyer/Projekte/deepdoctection/.venv/lib/python3.9/site-packages/torch/nn/modules/module.py:2025: UserWarning: for layer3.4.bn3.weight: copying from a non-meta parameter in the checkpoint to a meta parameter in the current model, which is a no-op. (Did you mean to pass `assign=True` to assign items in the state dictionary to their corresponding key in the module instead of copying them in place?)\n",
      "  warnings.warn(f'for {key}: copying from a non-meta parameter in the checkpoint to a meta '\n",
      "/Users/janismeyer/Projekte/deepdoctection/.venv/lib/python3.9/site-packages/torch/nn/modules/module.py:2025: UserWarning: for layer3.4.bn3.bias: copying from a non-meta parameter in the checkpoint to a meta parameter in the current model, which is a no-op. (Did you mean to pass `assign=True` to assign items in the state dictionary to their corresponding key in the module instead of copying them in place?)\n",
      "  warnings.warn(f'for {key}: copying from a non-meta parameter in the checkpoint to a meta '\n",
      "/Users/janismeyer/Projekte/deepdoctection/.venv/lib/python3.9/site-packages/torch/nn/modules/module.py:2025: UserWarning: for layer3.5.conv1.weight: copying from a non-meta parameter in the checkpoint to a meta parameter in the current model, which is a no-op. (Did you mean to pass `assign=True` to assign items in the state dictionary to their corresponding key in the module instead of copying them in place?)\n",
      "  warnings.warn(f'for {key}: copying from a non-meta parameter in the checkpoint to a meta '\n",
      "/Users/janismeyer/Projekte/deepdoctection/.venv/lib/python3.9/site-packages/torch/nn/modules/module.py:2025: UserWarning: for layer3.5.bn1.weight: copying from a non-meta parameter in the checkpoint to a meta parameter in the current model, which is a no-op. (Did you mean to pass `assign=True` to assign items in the state dictionary to their corresponding key in the module instead of copying them in place?)\n",
      "  warnings.warn(f'for {key}: copying from a non-meta parameter in the checkpoint to a meta '\n",
      "/Users/janismeyer/Projekte/deepdoctection/.venv/lib/python3.9/site-packages/torch/nn/modules/module.py:2025: UserWarning: for layer3.5.bn1.bias: copying from a non-meta parameter in the checkpoint to a meta parameter in the current model, which is a no-op. (Did you mean to pass `assign=True` to assign items in the state dictionary to their corresponding key in the module instead of copying them in place?)\n",
      "  warnings.warn(f'for {key}: copying from a non-meta parameter in the checkpoint to a meta '\n",
      "/Users/janismeyer/Projekte/deepdoctection/.venv/lib/python3.9/site-packages/torch/nn/modules/module.py:2025: UserWarning: for layer3.5.conv2.weight: copying from a non-meta parameter in the checkpoint to a meta parameter in the current model, which is a no-op. (Did you mean to pass `assign=True` to assign items in the state dictionary to their corresponding key in the module instead of copying them in place?)\n",
      "  warnings.warn(f'for {key}: copying from a non-meta parameter in the checkpoint to a meta '\n",
      "/Users/janismeyer/Projekte/deepdoctection/.venv/lib/python3.9/site-packages/torch/nn/modules/module.py:2025: UserWarning: for layer3.5.bn2.weight: copying from a non-meta parameter in the checkpoint to a meta parameter in the current model, which is a no-op. (Did you mean to pass `assign=True` to assign items in the state dictionary to their corresponding key in the module instead of copying them in place?)\n",
      "  warnings.warn(f'for {key}: copying from a non-meta parameter in the checkpoint to a meta '\n",
      "/Users/janismeyer/Projekte/deepdoctection/.venv/lib/python3.9/site-packages/torch/nn/modules/module.py:2025: UserWarning: for layer3.5.bn2.bias: copying from a non-meta parameter in the checkpoint to a meta parameter in the current model, which is a no-op. (Did you mean to pass `assign=True` to assign items in the state dictionary to their corresponding key in the module instead of copying them in place?)\n",
      "  warnings.warn(f'for {key}: copying from a non-meta parameter in the checkpoint to a meta '\n",
      "/Users/janismeyer/Projekte/deepdoctection/.venv/lib/python3.9/site-packages/torch/nn/modules/module.py:2025: UserWarning: for layer3.5.conv3.weight: copying from a non-meta parameter in the checkpoint to a meta parameter in the current model, which is a no-op. (Did you mean to pass `assign=True` to assign items in the state dictionary to their corresponding key in the module instead of copying them in place?)\n",
      "  warnings.warn(f'for {key}: copying from a non-meta parameter in the checkpoint to a meta '\n",
      "/Users/janismeyer/Projekte/deepdoctection/.venv/lib/python3.9/site-packages/torch/nn/modules/module.py:2025: UserWarning: for layer3.5.bn3.weight: copying from a non-meta parameter in the checkpoint to a meta parameter in the current model, which is a no-op. (Did you mean to pass `assign=True` to assign items in the state dictionary to their corresponding key in the module instead of copying them in place?)\n",
      "  warnings.warn(f'for {key}: copying from a non-meta parameter in the checkpoint to a meta '\n",
      "/Users/janismeyer/Projekte/deepdoctection/.venv/lib/python3.9/site-packages/torch/nn/modules/module.py:2025: UserWarning: for layer3.5.bn3.bias: copying from a non-meta parameter in the checkpoint to a meta parameter in the current model, which is a no-op. (Did you mean to pass `assign=True` to assign items in the state dictionary to their corresponding key in the module instead of copying them in place?)\n",
      "  warnings.warn(f'for {key}: copying from a non-meta parameter in the checkpoint to a meta '\n",
      "/Users/janismeyer/Projekte/deepdoctection/.venv/lib/python3.9/site-packages/torch/nn/modules/module.py:2025: UserWarning: for layer4.0.conv1.weight: copying from a non-meta parameter in the checkpoint to a meta parameter in the current model, which is a no-op. (Did you mean to pass `assign=True` to assign items in the state dictionary to their corresponding key in the module instead of copying them in place?)\n",
      "  warnings.warn(f'for {key}: copying from a non-meta parameter in the checkpoint to a meta '\n",
      "/Users/janismeyer/Projekte/deepdoctection/.venv/lib/python3.9/site-packages/torch/nn/modules/module.py:2025: UserWarning: for layer4.0.bn1.weight: copying from a non-meta parameter in the checkpoint to a meta parameter in the current model, which is a no-op. (Did you mean to pass `assign=True` to assign items in the state dictionary to their corresponding key in the module instead of copying them in place?)\n",
      "  warnings.warn(f'for {key}: copying from a non-meta parameter in the checkpoint to a meta '\n",
      "/Users/janismeyer/Projekte/deepdoctection/.venv/lib/python3.9/site-packages/torch/nn/modules/module.py:2025: UserWarning: for layer4.0.bn1.bias: copying from a non-meta parameter in the checkpoint to a meta parameter in the current model, which is a no-op. (Did you mean to pass `assign=True` to assign items in the state dictionary to their corresponding key in the module instead of copying them in place?)\n",
      "  warnings.warn(f'for {key}: copying from a non-meta parameter in the checkpoint to a meta '\n",
      "/Users/janismeyer/Projekte/deepdoctection/.venv/lib/python3.9/site-packages/torch/nn/modules/module.py:2025: UserWarning: for layer4.0.conv2.weight: copying from a non-meta parameter in the checkpoint to a meta parameter in the current model, which is a no-op. (Did you mean to pass `assign=True` to assign items in the state dictionary to their corresponding key in the module instead of copying them in place?)\n",
      "  warnings.warn(f'for {key}: copying from a non-meta parameter in the checkpoint to a meta '\n",
      "/Users/janismeyer/Projekte/deepdoctection/.venv/lib/python3.9/site-packages/torch/nn/modules/module.py:2025: UserWarning: for layer4.0.bn2.weight: copying from a non-meta parameter in the checkpoint to a meta parameter in the current model, which is a no-op. (Did you mean to pass `assign=True` to assign items in the state dictionary to their corresponding key in the module instead of copying them in place?)\n",
      "  warnings.warn(f'for {key}: copying from a non-meta parameter in the checkpoint to a meta '\n",
      "/Users/janismeyer/Projekte/deepdoctection/.venv/lib/python3.9/site-packages/torch/nn/modules/module.py:2025: UserWarning: for layer4.0.bn2.bias: copying from a non-meta parameter in the checkpoint to a meta parameter in the current model, which is a no-op. (Did you mean to pass `assign=True` to assign items in the state dictionary to their corresponding key in the module instead of copying them in place?)\n",
      "  warnings.warn(f'for {key}: copying from a non-meta parameter in the checkpoint to a meta '\n",
      "/Users/janismeyer/Projekte/deepdoctection/.venv/lib/python3.9/site-packages/torch/nn/modules/module.py:2025: UserWarning: for layer4.0.conv3.weight: copying from a non-meta parameter in the checkpoint to a meta parameter in the current model, which is a no-op. (Did you mean to pass `assign=True` to assign items in the state dictionary to their corresponding key in the module instead of copying them in place?)\n",
      "  warnings.warn(f'for {key}: copying from a non-meta parameter in the checkpoint to a meta '\n",
      "/Users/janismeyer/Projekte/deepdoctection/.venv/lib/python3.9/site-packages/torch/nn/modules/module.py:2025: UserWarning: for layer4.0.bn3.weight: copying from a non-meta parameter in the checkpoint to a meta parameter in the current model, which is a no-op. (Did you mean to pass `assign=True` to assign items in the state dictionary to their corresponding key in the module instead of copying them in place?)\n",
      "  warnings.warn(f'for {key}: copying from a non-meta parameter in the checkpoint to a meta '\n",
      "/Users/janismeyer/Projekte/deepdoctection/.venv/lib/python3.9/site-packages/torch/nn/modules/module.py:2025: UserWarning: for layer4.0.bn3.bias: copying from a non-meta parameter in the checkpoint to a meta parameter in the current model, which is a no-op. (Did you mean to pass `assign=True` to assign items in the state dictionary to their corresponding key in the module instead of copying them in place?)\n",
      "  warnings.warn(f'for {key}: copying from a non-meta parameter in the checkpoint to a meta '\n",
      "/Users/janismeyer/Projekte/deepdoctection/.venv/lib/python3.9/site-packages/torch/nn/modules/module.py:2025: UserWarning: for layer4.0.downsample.0.weight: copying from a non-meta parameter in the checkpoint to a meta parameter in the current model, which is a no-op. (Did you mean to pass `assign=True` to assign items in the state dictionary to their corresponding key in the module instead of copying them in place?)\n",
      "  warnings.warn(f'for {key}: copying from a non-meta parameter in the checkpoint to a meta '\n",
      "/Users/janismeyer/Projekte/deepdoctection/.venv/lib/python3.9/site-packages/torch/nn/modules/module.py:2025: UserWarning: for layer4.0.downsample.1.weight: copying from a non-meta parameter in the checkpoint to a meta parameter in the current model, which is a no-op. (Did you mean to pass `assign=True` to assign items in the state dictionary to their corresponding key in the module instead of copying them in place?)\n",
      "  warnings.warn(f'for {key}: copying from a non-meta parameter in the checkpoint to a meta '\n",
      "/Users/janismeyer/Projekte/deepdoctection/.venv/lib/python3.9/site-packages/torch/nn/modules/module.py:2025: UserWarning: for layer4.0.downsample.1.bias: copying from a non-meta parameter in the checkpoint to a meta parameter in the current model, which is a no-op. (Did you mean to pass `assign=True` to assign items in the state dictionary to their corresponding key in the module instead of copying them in place?)\n",
      "  warnings.warn(f'for {key}: copying from a non-meta parameter in the checkpoint to a meta '\n",
      "/Users/janismeyer/Projekte/deepdoctection/.venv/lib/python3.9/site-packages/torch/nn/modules/module.py:2025: UserWarning: for layer4.1.conv1.weight: copying from a non-meta parameter in the checkpoint to a meta parameter in the current model, which is a no-op. (Did you mean to pass `assign=True` to assign items in the state dictionary to their corresponding key in the module instead of copying them in place?)\n",
      "  warnings.warn(f'for {key}: copying from a non-meta parameter in the checkpoint to a meta '\n",
      "/Users/janismeyer/Projekte/deepdoctection/.venv/lib/python3.9/site-packages/torch/nn/modules/module.py:2025: UserWarning: for layer4.1.bn1.weight: copying from a non-meta parameter in the checkpoint to a meta parameter in the current model, which is a no-op. (Did you mean to pass `assign=True` to assign items in the state dictionary to their corresponding key in the module instead of copying them in place?)\n",
      "  warnings.warn(f'for {key}: copying from a non-meta parameter in the checkpoint to a meta '\n",
      "/Users/janismeyer/Projekte/deepdoctection/.venv/lib/python3.9/site-packages/torch/nn/modules/module.py:2025: UserWarning: for layer4.1.bn1.bias: copying from a non-meta parameter in the checkpoint to a meta parameter in the current model, which is a no-op. (Did you mean to pass `assign=True` to assign items in the state dictionary to their corresponding key in the module instead of copying them in place?)\n",
      "  warnings.warn(f'for {key}: copying from a non-meta parameter in the checkpoint to a meta '\n",
      "/Users/janismeyer/Projekte/deepdoctection/.venv/lib/python3.9/site-packages/torch/nn/modules/module.py:2025: UserWarning: for layer4.1.conv2.weight: copying from a non-meta parameter in the checkpoint to a meta parameter in the current model, which is a no-op. (Did you mean to pass `assign=True` to assign items in the state dictionary to their corresponding key in the module instead of copying them in place?)\n",
      "  warnings.warn(f'for {key}: copying from a non-meta parameter in the checkpoint to a meta '\n",
      "/Users/janismeyer/Projekte/deepdoctection/.venv/lib/python3.9/site-packages/torch/nn/modules/module.py:2025: UserWarning: for layer4.1.bn2.weight: copying from a non-meta parameter in the checkpoint to a meta parameter in the current model, which is a no-op. (Did you mean to pass `assign=True` to assign items in the state dictionary to their corresponding key in the module instead of copying them in place?)\n",
      "  warnings.warn(f'for {key}: copying from a non-meta parameter in the checkpoint to a meta '\n",
      "/Users/janismeyer/Projekte/deepdoctection/.venv/lib/python3.9/site-packages/torch/nn/modules/module.py:2025: UserWarning: for layer4.1.bn2.bias: copying from a non-meta parameter in the checkpoint to a meta parameter in the current model, which is a no-op. (Did you mean to pass `assign=True` to assign items in the state dictionary to their corresponding key in the module instead of copying them in place?)\n",
      "  warnings.warn(f'for {key}: copying from a non-meta parameter in the checkpoint to a meta '\n",
      "/Users/janismeyer/Projekte/deepdoctection/.venv/lib/python3.9/site-packages/torch/nn/modules/module.py:2025: UserWarning: for layer4.1.conv3.weight: copying from a non-meta parameter in the checkpoint to a meta parameter in the current model, which is a no-op. (Did you mean to pass `assign=True` to assign items in the state dictionary to their corresponding key in the module instead of copying them in place?)\n",
      "  warnings.warn(f'for {key}: copying from a non-meta parameter in the checkpoint to a meta '\n",
      "/Users/janismeyer/Projekte/deepdoctection/.venv/lib/python3.9/site-packages/torch/nn/modules/module.py:2025: UserWarning: for layer4.1.bn3.weight: copying from a non-meta parameter in the checkpoint to a meta parameter in the current model, which is a no-op. (Did you mean to pass `assign=True` to assign items in the state dictionary to their corresponding key in the module instead of copying them in place?)\n",
      "  warnings.warn(f'for {key}: copying from a non-meta parameter in the checkpoint to a meta '\n",
      "/Users/janismeyer/Projekte/deepdoctection/.venv/lib/python3.9/site-packages/torch/nn/modules/module.py:2025: UserWarning: for layer4.1.bn3.bias: copying from a non-meta parameter in the checkpoint to a meta parameter in the current model, which is a no-op. (Did you mean to pass `assign=True` to assign items in the state dictionary to their corresponding key in the module instead of copying them in place?)\n",
      "  warnings.warn(f'for {key}: copying from a non-meta parameter in the checkpoint to a meta '\n",
      "/Users/janismeyer/Projekte/deepdoctection/.venv/lib/python3.9/site-packages/torch/nn/modules/module.py:2025: UserWarning: for layer4.2.conv1.weight: copying from a non-meta parameter in the checkpoint to a meta parameter in the current model, which is a no-op. (Did you mean to pass `assign=True` to assign items in the state dictionary to their corresponding key in the module instead of copying them in place?)\n",
      "  warnings.warn(f'for {key}: copying from a non-meta parameter in the checkpoint to a meta '\n",
      "/Users/janismeyer/Projekte/deepdoctection/.venv/lib/python3.9/site-packages/torch/nn/modules/module.py:2025: UserWarning: for layer4.2.bn1.weight: copying from a non-meta parameter in the checkpoint to a meta parameter in the current model, which is a no-op. (Did you mean to pass `assign=True` to assign items in the state dictionary to their corresponding key in the module instead of copying them in place?)\n",
      "  warnings.warn(f'for {key}: copying from a non-meta parameter in the checkpoint to a meta '\n",
      "/Users/janismeyer/Projekte/deepdoctection/.venv/lib/python3.9/site-packages/torch/nn/modules/module.py:2025: UserWarning: for layer4.2.bn1.bias: copying from a non-meta parameter in the checkpoint to a meta parameter in the current model, which is a no-op. (Did you mean to pass `assign=True` to assign items in the state dictionary to their corresponding key in the module instead of copying them in place?)\n",
      "  warnings.warn(f'for {key}: copying from a non-meta parameter in the checkpoint to a meta '\n",
      "/Users/janismeyer/Projekte/deepdoctection/.venv/lib/python3.9/site-packages/torch/nn/modules/module.py:2025: UserWarning: for layer4.2.conv2.weight: copying from a non-meta parameter in the checkpoint to a meta parameter in the current model, which is a no-op. (Did you mean to pass `assign=True` to assign items in the state dictionary to their corresponding key in the module instead of copying them in place?)\n",
      "  warnings.warn(f'for {key}: copying from a non-meta parameter in the checkpoint to a meta '\n",
      "/Users/janismeyer/Projekte/deepdoctection/.venv/lib/python3.9/site-packages/torch/nn/modules/module.py:2025: UserWarning: for layer4.2.bn2.weight: copying from a non-meta parameter in the checkpoint to a meta parameter in the current model, which is a no-op. (Did you mean to pass `assign=True` to assign items in the state dictionary to their corresponding key in the module instead of copying them in place?)\n",
      "  warnings.warn(f'for {key}: copying from a non-meta parameter in the checkpoint to a meta '\n",
      "/Users/janismeyer/Projekte/deepdoctection/.venv/lib/python3.9/site-packages/torch/nn/modules/module.py:2025: UserWarning: for layer4.2.bn2.bias: copying from a non-meta parameter in the checkpoint to a meta parameter in the current model, which is a no-op. (Did you mean to pass `assign=True` to assign items in the state dictionary to their corresponding key in the module instead of copying them in place?)\n",
      "  warnings.warn(f'for {key}: copying from a non-meta parameter in the checkpoint to a meta '\n",
      "/Users/janismeyer/Projekte/deepdoctection/.venv/lib/python3.9/site-packages/torch/nn/modules/module.py:2025: UserWarning: for layer4.2.conv3.weight: copying from a non-meta parameter in the checkpoint to a meta parameter in the current model, which is a no-op. (Did you mean to pass `assign=True` to assign items in the state dictionary to their corresponding key in the module instead of copying them in place?)\n",
      "  warnings.warn(f'for {key}: copying from a non-meta parameter in the checkpoint to a meta '\n",
      "/Users/janismeyer/Projekte/deepdoctection/.venv/lib/python3.9/site-packages/torch/nn/modules/module.py:2025: UserWarning: for layer4.2.bn3.weight: copying from a non-meta parameter in the checkpoint to a meta parameter in the current model, which is a no-op. (Did you mean to pass `assign=True` to assign items in the state dictionary to their corresponding key in the module instead of copying them in place?)\n",
      "  warnings.warn(f'for {key}: copying from a non-meta parameter in the checkpoint to a meta '\n",
      "/Users/janismeyer/Projekte/deepdoctection/.venv/lib/python3.9/site-packages/torch/nn/modules/module.py:2025: UserWarning: for layer4.2.bn3.bias: copying from a non-meta parameter in the checkpoint to a meta parameter in the current model, which is a no-op. (Did you mean to pass `assign=True` to assign items in the state dictionary to their corresponding key in the module instead of copying them in place?)\n",
      "  warnings.warn(f'for {key}: copying from a non-meta parameter in the checkpoint to a meta '\n",
      "\u001B[32m[0525 21:16.23 @_builder.py:262]\u001B[0m  \u001B[32mINF\u001B[0m  \u001B[97mMissing keys (fc.weight, fc.bias) discovered while loading pretrained weights. This is expected if model is being adapted.\u001B[0m\n",
      "You are using a model of type table-transformer to instantiate a model of type . This is not supported for all configurations of models and can yield errors.\n",
      "\u001B[32m[0525 21:16.24 @_builder.py:204]\u001B[0m  \u001B[32mINF\u001B[0m  \u001B[97mLoading pretrained weights from Hugging Face hub (timm/resnet18.a1_in1k)\u001B[0m\n",
      "\u001B[32m[0525 21:16.24 @_hub.py:217]\u001B[0m  \u001B[32mINF\u001B[0m  \u001B[97m[timm/resnet18.a1_in1k] Safe alternative available for 'pytorch_model.bin' (as 'model.safetensors'). Loading weights using safetensors.\u001B[0m\n",
      "\u001B[32m[0525 21:16.24 @_builder.py:262]\u001B[0m  \u001B[32mINF\u001B[0m  \u001B[97mMissing keys (fc.weight, fc.bias) discovered while loading pretrained weights. This is expected if model is being adapted.\u001B[0m\n",
      "The `max_size` parameter is deprecated and will be removed in v4.26. Please specify in `size['longest_edge'] instead`.\n",
      "\u001B[32m[0525 21:16.24 @fs.py:103]\u001B[0m  \u001B[32mINF\u001B[0m  \u001B[97mFile db_resnet50-ac60cadc.pt exists! Skip download.\u001B[0m\n",
      "\u001B[32m[0525 21:16.24 @file_utils.py:532]\u001B[0m  \u001B[32mINF\u001B[0m  \u001B[97mpackage requires weasyprint. Check that poppler pango gdk-pixbuf libffi are installed\u001B[0m\n",
      "\u001B[32m[0525 21:16.25 @fs.py:103]\u001B[0m  \u001B[32mINF\u001B[0m  \u001B[97mFile crnn_vgg16_bn-9762b0b0.pt exists! Skip download.\u001B[0m\n",
      "\u001B[32m[0525 21:16.25 @file_utils.py:532]\u001B[0m  \u001B[32mINF\u001B[0m  \u001B[97mpackage requires weasyprint. Check that poppler pango gdk-pixbuf libffi are installed\u001B[0m\n",
      "[W NNPACK.cpp:64] Could not initialize NNPACK! Reason: Unsupported hardware.\n",
      "\u001B[32m[0525 21:16.26 @data.py:92]\u001B[0m  \u001B[32mINF\u001B[0m  \u001B[97mUsing downloaded & verified file: /Users/janismeyer/.cache/doctr/models/crnn_vgg16_bn-9762b0b0.pt\u001B[0m\n",
      "\u001B[32m[0525 21:16.28 @data.py:92]\u001B[0m  \u001B[32mINF\u001B[0m  \u001B[97mUsing downloaded & verified file: /Users/janismeyer/.cache/doctr/models/crnn_vgg16_bn-9762b0b0.pt\u001B[0m\n"
     ]
    }
   ],
   "execution_count": 2
  },
  {
   "cell_type": "markdown",
   "metadata": {},
   "source": [
    "Let's take a closer look at the **deep**doctection analyzer. \n",
    "\n",
    "![pipeline](./pics/dd_pipeline_250525.png)\n",
    "\n",
    "The architecture is modular, and a pipeline consists of individual components, each typically performing a single processing step. We have already explored the configuration options. When the analyzer is instantiated, a dictionary is printed to the logs, which begins approximately like this:\n",
    "\n",
    "```\n",
    "{'DEVICE': device(type='mps'),\n",
    " 'LANGUAGE': None,\n",
    " 'LAYOUT_LINK': {'CHILD_CATEGORIES': ['caption'], 'PARENTAL_CATEGORIES': ['figure', 'table']},\n",
    " 'LAYOUT_NMS_PAIRS': {'COMBINATIONS': [['table', 'title'], ['table', 'text'],\n",
    "                                       ['table', 'key_value_area'], ['table', 'list_item'],\n",
    "                                       ['table', 'list'], ['table', 'figure'], ['title', 'text'],\n",
    "                                       ['text', 'key_value_area'], ['text', 'list_item'],\n",
    "                                       ['key_value_area', 'list_item']],\n",
    "                      'PRIORITY': ['table', 'table', 'table', 'table', 'table', 'table', 'text',\n",
    "                                   'text', None, 'key_value_area'],\n",
    "                      'THRESHOLDS': [0.001, 0.01, 0.01, 0.001, 0.01, 0.01, 0.05, 0.01, 0.01, 0.01]},\n",
    " ...\n",
    "}\n",
    "```\n",
    "\n",
    "Having a pipeline, you can list the components with `get_pipeline_info()`. It returns a dictionary with the a so called `service_id` and a name of the component. Note, that the name of the component depends not only on the service itself but also on the model that is being chosen."
   ]
  },
  {
   "metadata": {
    "ExecuteTime": {
     "end_time": "2025-05-25T19:16:28.602487Z",
     "start_time": "2025-05-25T19:16:28.598040Z"
    }
   },
   "cell_type": "code",
   "source": "analyzer.get_pipeline_info()\n",
   "outputs": [
    {
     "data": {
      "text/plain": [
       "{'5497d92c': 'image_Transformers_Tatr_deformable-detr-DocLayNet_model.safetensors',\n",
       " '3b56c997': 'nms',\n",
       " '8c23055e': 'sub_image_Transformers_Tatr_tatr_tab_struct_v2_pytorch_model.bin',\n",
       " '03844ddb': 'table_transformer_segment',\n",
       " '01a15bff': 'image_doctr_db_resnet50pt_db_resnet50-ac60cadc.pt',\n",
       " '1cedc14d': 'text_extract_doctr_crnn_vgg16_bnpt_crnn_vgg16_bn-9762b0b0.pt',\n",
       " 'd6219eba': 'matching',\n",
       " 'f10aa678': 'text_order'}"
      ]
     },
     "execution_count": 3,
     "metadata": {},
     "output_type": "execute_result"
    }
   ],
   "execution_count": 3
  },
  {
   "cell_type": "code",
   "metadata": {
    "ExecuteTime": {
     "end_time": "2025-05-25T19:16:30.320058Z",
     "start_time": "2025-05-25T19:16:30.315702Z"
    }
   },
   "source": [
    "component = analyzer.get_pipeline_component(service_id=\"5497d92c\")\n",
    "component.name"
   ],
   "outputs": [
    {
     "data": {
      "text/plain": [
       "'image_Transformers_Tatr_deformable-detr-DocLayNet_model.safetensors'"
      ]
     },
     "execution_count": 4,
     "metadata": {},
     "output_type": "execute_result"
    }
   ],
   "execution_count": 4
  },
  {
   "cell_type": "markdown",
   "metadata": {},
   "source": [
    "Each pipeline component has a `DatapointManager`, which manages the dataclass responsible for collecting all information related to a page. The results are then provided through the `Page` object, which generates the corresponding `JSON` output. If a service uses a model, the model will also receive a `model_id`. If you want to process a pile of documents with a pipeline, you can pass a `service_id` to the `analyze` method which allows you to version the run. The `service_id` will be added in your JSON output. Note, that the analyzer will not generate a `session_id` by itself.\n",
    "\n",
    "The `get_meta_annotation()` method allows you to see which elements are being detected. We already mentioned this method in the [**More on parsing**](./Analyzer_More_On_Parsing.ipynb) notebook. It exists both at the level of individual pipeline components and at the level of the entire pipeline.\n",
    "At the pipeline level, all `get_meta_annotation()` outputs from the individual components are aggregated."
   ]
  },
  {
   "metadata": {
    "ExecuteTime": {
     "end_time": "2025-05-25T19:16:34.540790Z",
     "start_time": "2025-05-25T19:16:34.536211Z"
    }
   },
   "cell_type": "code",
   "source": "component.dp_manager.model_id, component.dp_manager.service_id, component.dp_manager.session_id",
   "outputs": [
    {
     "data": {
      "text/plain": [
       "('af516519', '5497d92c', None)"
      ]
     },
     "execution_count": 5,
     "metadata": {},
     "output_type": "execute_result"
    }
   ],
   "execution_count": 5
  },
  {
   "metadata": {
    "ExecuteTime": {
     "end_time": "2025-05-25T19:16:36.095270Z",
     "start_time": "2025-05-25T19:16:36.090586Z"
    }
   },
   "cell_type": "code",
   "source": "component.get_meta_annotation()",
   "outputs": [
    {
     "data": {
      "text/plain": [
       "MetaAnnotation(image_annotations=(<DefaultType.DEFAULT_TYPE>, <LayoutType.CAPTION>, <LayoutType.TEXT>, <LayoutType.TITLE>, <LayoutType.FOOTNOTE>, <LayoutType.FORMULA>, <LayoutType.LIST_ITEM>, <LayoutType.PAGE_FOOTER>, <LayoutType.PAGE_HEADER>, <LayoutType.FIGURE>, <LayoutType.SECTION_HEADER>, <LayoutType.TABLE>), sub_categories={}, relationships={}, summaries=())"
      ]
     },
     "execution_count": 6,
     "metadata": {},
     "output_type": "execute_result"
    }
   ],
   "execution_count": 6
  },
  {
   "metadata": {},
   "cell_type": "markdown",
   "source": [
    "## Pipeline operations and parsing results\n",
    "\n",
    "Let’s now take a look at the parsed results from a technical perspective.\n"
   ]
  },
  {
   "cell_type": "code",
   "metadata": {
    "ExecuteTime": {
     "end_time": "2025-05-25T19:16:51.178879Z",
     "start_time": "2025-05-25T19:16:39.541023Z"
    }
   },
   "source": [
    "pdf_path = Path.cwd() / \"sample/2312.13560.pdf\"\n",
    "\n",
    "df = analyzer.analyze(path=pdf_path, session_id=\"9999z99z\", max_datapoints=3) # max_datapoints limits the number of samples to at most 3\n",
    "df.reset_state()\n",
    "all_results = [dp for dp in df]"
   ],
   "outputs": [
    {
     "name": "stderr",
     "output_type": "stream",
     "text": [
      "\u001B[32m[0525 21:16.39 @doctectionpipe.py:103]\u001B[0m  \u001B[32mINF\u001B[0m  \u001B[97mProcessing 2312.13560_0.pdf\u001B[0m\n",
      "Unused or unrecognized kwargs: masks_path, annotations.\n",
      "\u001B[32m[0525 21:16.42 @context.py:133]\u001B[0m  \u001B[32mINF\u001B[0m  \u001B[97mImageLayoutService total: 2.3687 sec.\u001B[0m\n",
      "\u001B[32m[0525 21:16.42 @context.py:133]\u001B[0m  \u001B[32mINF\u001B[0m  \u001B[97mAnnotationNmsService total: 0.0027 sec.\u001B[0m\n",
      "\u001B[32m[0525 21:16.42 @context.py:133]\u001B[0m  \u001B[32mINF\u001B[0m  \u001B[97mSubImageLayoutService total: 0.0 sec.\u001B[0m\n",
      "\u001B[32m[0525 21:16.42 @context.py:133]\u001B[0m  \u001B[32mINF\u001B[0m  \u001B[97mPubtablesSegmentationService total: 0.0 sec.\u001B[0m\n",
      "\u001B[32m[0525 21:16.42 @context.py:133]\u001B[0m  \u001B[32mINF\u001B[0m  \u001B[97mImageLayoutService total: 0.6443 sec.\u001B[0m\n",
      "\u001B[32m[0525 21:16.43 @context.py:133]\u001B[0m  \u001B[32mINF\u001B[0m  \u001B[97mTextExtractionService total: 1.0304 sec.\u001B[0m\n",
      "\u001B[32m[0525 21:16.43 @context.py:133]\u001B[0m  \u001B[32mINF\u001B[0m  \u001B[97mMatchingService total: 0.0065 sec.\u001B[0m\n",
      "\u001B[32m[0525 21:16.43 @context.py:133]\u001B[0m  \u001B[32mINF\u001B[0m  \u001B[97mTextOrderService total: 0.0319 sec.\u001B[0m\n",
      "\u001B[32m[0525 21:16.44 @doctectionpipe.py:103]\u001B[0m  \u001B[32mINF\u001B[0m  \u001B[97mProcessing 2312.13560_1.pdf\u001B[0m\n",
      "Unused or unrecognized kwargs: masks_path, annotations.\n",
      "\u001B[32m[0525 21:16.45 @context.py:133]\u001B[0m  \u001B[32mINF\u001B[0m  \u001B[97mImageLayoutService total: 1.575 sec.\u001B[0m\n",
      "\u001B[32m[0525 21:16.45 @context.py:133]\u001B[0m  \u001B[32mINF\u001B[0m  \u001B[97mAnnotationNmsService total: 0.0014 sec.\u001B[0m\n",
      "\u001B[32m[0525 21:16.45 @context.py:133]\u001B[0m  \u001B[32mINF\u001B[0m  \u001B[97mSubImageLayoutService total: 0.0 sec.\u001B[0m\n",
      "\u001B[32m[0525 21:16.45 @context.py:133]\u001B[0m  \u001B[32mINF\u001B[0m  \u001B[97mPubtablesSegmentationService total: 0.0 sec.\u001B[0m\n",
      "\u001B[32m[0525 21:16.46 @context.py:133]\u001B[0m  \u001B[32mINF\u001B[0m  \u001B[97mImageLayoutService total: 0.2265 sec.\u001B[0m\n",
      "\u001B[32m[0525 21:16.46 @context.py:133]\u001B[0m  \u001B[32mINF\u001B[0m  \u001B[97mTextExtractionService total: 0.7233 sec.\u001B[0m\n",
      "\u001B[32m[0525 21:16.46 @context.py:133]\u001B[0m  \u001B[32mINF\u001B[0m  \u001B[97mMatchingService total: 0.006 sec.\u001B[0m\n",
      "\u001B[32m[0525 21:16.46 @context.py:133]\u001B[0m  \u001B[32mINF\u001B[0m  \u001B[97mTextOrderService total: 0.0307 sec.\u001B[0m\n",
      "\u001B[32m[0525 21:16.47 @doctectionpipe.py:103]\u001B[0m  \u001B[32mINF\u001B[0m  \u001B[97mProcessing 2312.13560_2.pdf\u001B[0m\n",
      "Unused or unrecognized kwargs: masks_path, annotations.\n",
      "\u001B[32m[0525 21:16.48 @context.py:133]\u001B[0m  \u001B[32mINF\u001B[0m  \u001B[97mImageLayoutService total: 1.55 sec.\u001B[0m\n",
      "\u001B[32m[0525 21:16.48 @context.py:133]\u001B[0m  \u001B[32mINF\u001B[0m  \u001B[97mAnnotationNmsService total: 0.0012 sec.\u001B[0m\n",
      "Unused or unrecognized kwargs: masks_path, annotations.\n",
      "\u001B[32m[0525 21:16.49 @context.py:133]\u001B[0m  \u001B[32mINF\u001B[0m  \u001B[97mSubImageLayoutService total: 0.4007 sec.\u001B[0m\n",
      "\u001B[32m[0525 21:16.49 @context.py:133]\u001B[0m  \u001B[32mINF\u001B[0m  \u001B[97mPubtablesSegmentationService total: 0.013 sec.\u001B[0m\n",
      "\u001B[32m[0525 21:16.49 @context.py:133]\u001B[0m  \u001B[32mINF\u001B[0m  \u001B[97mImageLayoutService total: 0.2829 sec.\u001B[0m\n",
      "\u001B[32m[0525 21:16.50 @context.py:133]\u001B[0m  \u001B[32mINF\u001B[0m  \u001B[97mTextExtractionService total: 0.8789 sec.\u001B[0m\n",
      "\u001B[32m[0525 21:16.50 @context.py:133]\u001B[0m  \u001B[32mINF\u001B[0m  \u001B[97mMatchingService total: 0.0074 sec.\u001B[0m\n",
      "\u001B[32m[0525 21:16.50 @context.py:133]\u001B[0m  \u001B[32mINF\u001B[0m  \u001B[97mTextOrderService total: 0.0428 sec.\u001B[0m\n"
     ]
    }
   ],
   "execution_count": 7
  },
  {
   "cell_type": "markdown",
   "metadata": {},
   "source": "If we select any layout section or word, we can immediately see from the object in which component it was generated.\n"
  },
  {
   "cell_type": "code",
   "metadata": {
    "ExecuteTime": {
     "end_time": "2025-05-25T19:16:51.186252Z",
     "start_time": "2025-05-25T19:16:51.183306Z"
    }
   },
   "source": [
    "page_2 = all_results[1]\n",
    "\n",
    "sample_layout_section = page_2.layouts[0] # get the first layout section\n",
    "print(f\"service_id: {sample_layout_section.service_id}, model_id: {sample_layout_section.model_id}, session_id: {sample_layout_section.session_id}\")\n"
   ],
   "outputs": [
    {
     "name": "stdout",
     "output_type": "stream",
     "text": [
      "service_id: 5497d92c, model_id: af516519, session_id: 9999z99z\n"
     ]
    }
   ],
   "execution_count": 8
  },
  {
   "cell_type": "code",
   "metadata": {
    "ExecuteTime": {
     "end_time": "2025-05-25T19:16:51.253085Z",
     "start_time": "2025-05-25T19:16:51.243169Z"
    }
   },
   "source": [
    "sample_word = sample_layout_section.get_ordered_words()[2]\n",
    "print(f\"layout section text: {sample_layout_section.text} \\n \\n word text: {sample_word.characters}  service_id: {sample_word.service_id}, model_id: {sample_word.model_id}, session_id: {sample_word.session_id}\")"
   ],
   "outputs": [
    {
     "name": "stdout",
     "output_type": "stream",
     "text": [
      "layout section text: When processing audio at the frame level, an immense vol- ume of entries is generated, where a considerable portion of the frames are assigned to the <blank * symbol due to the characteristic peak behavior of CTC. We propose skip-blank strategy to prune the datastore and accelerat KNN retrieval. During datastore construction, this strateg omits frames whose CTC pseudo labels correspond to th <blank \" symbol, thereby reducing the size of the data store. This process is indicated by the blue dashed lines 11 \n",
      " \n",
      " word text: audio  service_id: 01a15bff, model_id: 65b358ea, session_id: 9999z99z\n"
     ]
    }
   ],
   "execution_count": 9
  },
  {
   "metadata": {},
   "cell_type": "markdown",
   "source": [
    "As is well known, a pipeline does not only generate layout sections but also determines other elements—such as reading orders or relationships between layout sections. The associated `service_id` must be extracted from the container that stores the reading order information.\n",
    "\n",
    "You can find more information about the data structure in the [**Data structure notebook**](deprecated/Data_structure.ipynb).\n"
   ]
  },
  {
   "cell_type": "code",
   "metadata": {
    "ExecuteTime": {
     "end_time": "2025-05-25T19:16:59.124150Z",
     "start_time": "2025-05-25T19:16:59.121060Z"
    }
   },
   "source": [
    "reading_order = sample_layout_section.get_sub_category(\"reading_order\")\n",
    "print(type(reading_order))"
   ],
   "outputs": [
    {
     "name": "stdout",
     "output_type": "stream",
     "text": [
      "<class 'deepdoctection.datapoint.annotation.CategoryAnnotation'>\n"
     ]
    }
   ],
   "execution_count": 10
  },
  {
   "metadata": {
    "ExecuteTime": {
     "end_time": "2025-05-25T19:17:07.042843Z",
     "start_time": "2025-05-25T19:17:07.039410Z"
    }
   },
   "cell_type": "code",
   "source": "print(f\"position: {reading_order.category_id} \\n \\n service_id: {reading_order.service_id}  model_id: {reading_order.model_id}, session_id: {reading_order.session_id}\")",
   "outputs": [
    {
     "name": "stdout",
     "output_type": "stream",
     "text": [
      "position: 25 \n",
      " \n",
      " service_id: f10aa678  model_id: None, session_id: 9999z99z\n"
     ]
    }
   ],
   "execution_count": 11
  },
  {
   "metadata": {},
   "cell_type": "markdown",
   "source": "We can get an overview of all `service_id`'s and their `annotation_id`'s they generated."
  },
  {
   "metadata": {
    "ExecuteTime": {
     "end_time": "2025-05-25T19:19:37.714443Z",
     "start_time": "2025-05-25T19:19:37.691080Z"
    }
   },
   "cell_type": "code",
   "source": [
    "service_id_to_annotation_id = page_2.get_service_id_to_annotation_id()\n",
    "service_id_to_annotation_id.keys(), service_id_to_annotation_id[\"01a15bff\"][:10]"
   ],
   "outputs": [
    {
     "data": {
      "text/plain": [
       "(dict_keys(['5497d92c', 'f10aa678', '01a15bff', '1cedc14d', 'd6219eba']),\n",
       " ['a0ef728f-57c7-304e-9d98-903a492b6dea',\n",
       "  '9340f60a-8088-3b7c-bf5b-f41e472e61b1',\n",
       "  '14bdcabc-49a6-37e7-8890-4c03f6b6bfed',\n",
       "  '2c119bf0-d344-3c6c-9ec2-60f7f07c3092',\n",
       "  '48e5f8f8-90d4-3d2d-bbc1-a8793961d3e1',\n",
       "  '811addaf-6388-345c-97b4-0def4114822f',\n",
       "  '589cbd78-dfbc-3af6-9de7-0c2a9ee31956',\n",
       "  '9b4474c8-7c14-3b97-8533-3998aa832ed3',\n",
       "  '29440674-f9d3-3611-942b-1f9370ac213a',\n",
       "  '1b44b477-8c20-3fd2-8f14-accc04abe601'])"
      ]
     },
     "execution_count": 12,
     "metadata": {},
     "output_type": "execute_result"
    }
   ],
   "execution_count": 12
  },
  {
   "metadata": {},
   "cell_type": "markdown",
   "source": [
    "Conversely, for a given `annotation_id`, we can use the `AnnotationMap` to locate the position where the object with that specific `annotation_id` can be found.\n",
    "In the case below, the object with `annotation_id=\"966e6cc7-8b2c-38c5-9416-cfe114af1cc1\"` is located within the layout section with `annotation_id=\"6ac8cd0b-8425-392c-ae8a-76c1f198ecf0\"` and represents the `sub_category = <Relationships.READING_ORDER>`.\n"
   ]
  },
  {
   "metadata": {
    "ExecuteTime": {
     "end_time": "2025-05-25T19:19:51.656810Z",
     "start_time": "2025-05-25T19:19:51.644944Z"
    }
   },
   "cell_type": "code",
   "source": [
    "annotation_id_to_annotation_maps = page_2.get_annotation_id_to_annotation_maps()\n",
    "annotation_id_to_annotation_maps[\"966e6cc7-8b2c-38c5-9416-cfe114af1cc1\"]"
   ],
   "outputs": [
    {
     "data": {
      "text/plain": [
       "[AnnotationMap(image_annotation_id='6ac8cd0b-8425-392c-ae8a-76c1f198ecf0', sub_category_key=<Relationships.READING_ORDER>, relationship_key=None, summary_key=None)]"
      ]
     },
     "execution_count": 13,
     "metadata": {},
     "output_type": "execute_result"
    }
   ],
   "execution_count": 13
  },
  {
   "metadata": {},
   "cell_type": "markdown",
   "source": "We can retrieve the object in two steps:"
  },
  {
   "metadata": {
    "ExecuteTime": {
     "end_time": "2025-05-25T19:28:41.734110Z",
     "start_time": "2025-05-25T19:28:41.730122Z"
    }
   },
   "cell_type": "code",
   "source": [
    "image_annotation = page_2.get_annotation(annotation_ids=\"6ac8cd0b-8425-392c-ae8a-76c1f198ecf0\")[0] # get the layout section\n",
    "reading_order_ann = image_annotation.get_sub_category(\"reading_order\") # get the reading order annotation\n",
    "reading_order_ann.annotation_id # reading_order_ann is the object we were looking for"
   ],
   "outputs": [
    {
     "data": {
      "text/plain": [
       "'966e6cc7-8b2c-38c5-9416-cfe114af1cc1'"
      ]
     },
     "execution_count": 14,
     "metadata": {},
     "output_type": "execute_result"
    }
   ],
   "execution_count": 14
  },
  {
   "metadata": {},
   "cell_type": "markdown",
   "source": [
    "## Undoing a pipeline component operation\n",
    "\n",
    "Not only the creation of objects but also the revision of a parsing structure can be important. In particular, the output of a component can be reverted using `undo`. In this example, we remove all word positions that were identified by the DocTr text detection model.\n",
    "\n",
    "\n"
   ]
  },
  {
   "metadata": {
    "ExecuteTime": {
     "end_time": "2025-05-25T19:38:42.370775Z",
     "start_time": "2025-05-25T19:38:42.368059Z"
    }
   },
   "cell_type": "code",
   "source": "text_detection_component = analyzer.get_pipeline_component(service_id=\"01a15bff\")",
   "outputs": [],
   "execution_count": 15
  },
  {
   "metadata": {
    "ExecuteTime": {
     "end_time": "2025-05-25T19:40:21.868436Z",
     "start_time": "2025-05-25T19:40:21.462664Z"
    }
   },
   "cell_type": "code",
   "source": [
    "df = dd.DataFromList([dp.image_orig for dp in all_results]) # Check the notebook Data_structure  in order to understand why we use dp.image_orig\n",
    "df = text_detection_component.undo(df)\n",
    "df.reset_state()\n",
    "\n",
    "all_results_modified = [dp for dp in df]"
   ],
   "outputs": [
    {
     "name": "stderr",
     "output_type": "stream",
     "text": [
      "\u001B[32m[0525 21:40.21 @context.py:133]\u001B[0m  \u001B[32mINF\u001B[0m  \u001B[97mImageLayoutService total: 0.1084 sec.\u001B[0m\n",
      "\u001B[32m[0525 21:40.21 @context.py:133]\u001B[0m  \u001B[32mINF\u001B[0m  \u001B[97mImageLayoutService total: 0.1151 sec.\u001B[0m\n",
      "\u001B[32m[0525 21:40.21 @context.py:133]\u001B[0m  \u001B[32mINF\u001B[0m  \u001B[97mImageLayoutService total: 0.1776 sec.\u001B[0m\n"
     ]
    }
   ],
   "execution_count": 16
  },
  {
   "metadata": {},
   "cell_type": "markdown",
   "source": "Note that not only the objects generated by the pipeline itself are affected, but also those from all pipeline components that build upon its results. In this case, objects related to text ordering and layout segments remain. The fact that text ordering objects persist might be surprising, but it can be explained by the fact that not only the words, but also the layout segments themselves are ordered. As a result, the reading order determined for these segments leads to the retention of objects from this service.\n"
  },
  {
   "metadata": {
    "ExecuteTime": {
     "end_time": "2025-05-25T19:40:40.101204Z",
     "start_time": "2025-05-25T19:40:40.096735Z"
    }
   },
   "cell_type": "code",
   "source": [
    "page_2_modified = all_results_modified[1]\n",
    "service_id_to_annotation_id_modified = page_2_modified.get_service_id_to_annotation_id()\n",
    "service_id_to_annotation_id_modified.keys(), service_id_to_annotation_id_modified.get(\"01a15bff\")"
   ],
   "outputs": [
    {
     "data": {
      "text/plain": [
       "(dict_keys(['5497d92c', 'f10aa678']), None)"
      ]
     },
     "execution_count": 17,
     "metadata": {},
     "output_type": "execute_result"
    }
   ],
   "execution_count": 17
  },
  {
   "metadata": {},
   "cell_type": "markdown",
   "source": [
    "## Analyzer Factory\n",
    "\n",
    "\n",
    "**How is an Analyzer constructed and where does the configuration come from?**\n",
    "\n",
    "The configuration is provided by a default instance called `cfg`, which can be modified by defrosting it.\n",
    "\n",
    "\n",
    "\n",
    "\n",
    "\n"
   ]
  },
  {
   "metadata": {
    "ExecuteTime": {
     "end_time": "2025-05-26T07:01:43.238030Z",
     "start_time": "2025-05-26T07:01:43.232492Z"
    }
   },
   "cell_type": "code",
   "source": [
    "from deepdoctection.analyzer import cfg, ServiceFactory\n",
    "\n",
    "cfg.USE_OCR"
   ],
   "outputs": [
    {
     "data": {
      "text/plain": [
       "True"
      ]
     },
     "execution_count": 2,
     "metadata": {},
     "output_type": "execute_result"
    }
   ],
   "execution_count": 2
  },
  {
   "metadata": {
    "ExecuteTime": {
     "end_time": "2025-05-26T07:09:16.740775Z",
     "start_time": "2025-05-26T07:09:16.738373Z"
    }
   },
   "cell_type": "code",
   "source": [
    "cfg.freeze(False)\n",
    "cfg.USE_OCR=False  # After defrosting we can change values and add new attributes\n",
    "cfg.freeze(True)\n"
   ],
   "outputs": [],
   "execution_count": 7
  },
  {
   "metadata": {
    "ExecuteTime": {
     "end_time": "2025-05-26T07:09:36.495648Z",
     "start_time": "2025-05-26T07:09:36.490747Z"
    }
   },
   "cell_type": "code",
   "source": "cfg",
   "outputs": [
    {
     "data": {
      "text/plain": [
       "{'DEVICE': None,\n",
       " 'LANGUAGE': None,\n",
       " 'LAYOUT_LINK': {'CHILD_CATEGORIES': [<LayoutType.CAPTION>],\n",
       "                 'PARENTAL_CATEGORIES': [<LayoutType.FIGURE>, <LayoutType.TABLE>]},\n",
       " 'LAYOUT_NMS_PAIRS': {'COMBINATIONS': [[<LayoutType.TABLE>, <LayoutType.TITLE>],\n",
       "                                       [<LayoutType.TABLE>, <LayoutType.TEXT>],\n",
       "                                       [<LayoutType.TABLE>, <LayoutType.KEY_VALUE_AREA>],\n",
       "                                       [<LayoutType.TABLE>, <LayoutType.LIST_ITEM>],\n",
       "                                       [<LayoutType.TABLE>, <LayoutType.LIST>],\n",
       "                                       [<LayoutType.TABLE>, <LayoutType.FIGURE>],\n",
       "                                       [<LayoutType.TITLE>, <LayoutType.TEXT>],\n",
       "                                       [<LayoutType.TEXT>, <LayoutType.KEY_VALUE_AREA>],\n",
       "                                       [<LayoutType.TEXT>, <LayoutType.LIST_ITEM>],\n",
       "                                       [<LayoutType.TEXT>, <LayoutType.CAPTION>],\n",
       "                                       [<LayoutType.KEY_VALUE_AREA>, <LayoutType.LIST_ITEM>],\n",
       "                                       [<LayoutType.FIGURE>, <LayoutType.CAPTION>]],\n",
       "                      'PRIORITY': [<LayoutType.TABLE>, <LayoutType.TABLE>, <LayoutType.TABLE>,\n",
       "                                   <LayoutType.TABLE>, <LayoutType.TABLE>, <LayoutType.TABLE>,\n",
       "                                   <LayoutType.TEXT>, <LayoutType.TEXT>, None, <LayoutType.CAPTION>,\n",
       "                                   <LayoutType.KEY_VALUE_AREA>, <LayoutType.FIGURE>],\n",
       "                      'THRESHOLDS': [0.001, 0.01, 0.01, 0.001, 0.01, 0.01, 0.05, 0.01, 0.01, 0.01,\n",
       "                                     0.01, 0.001]},\n",
       " 'LIB': None,\n",
       " 'OCR': {'CONFIG': {'TESSERACT': 'dd/conf_tesseract.yaml'},\n",
       "         'USE_DOCTR': True,\n",
       "         'USE_TESSERACT': False,\n",
       "         'USE_TEXTRACT': False,\n",
       "         'WEIGHTS': {'DOCTR_RECOGNITION': {'PT': 'doctr/crnn_vgg16_bn/pt/crnn_vgg16_bn-9762b0b0.pt',\n",
       "                                           'TF': 'doctr/crnn_vgg16_bn/tf/crnn_vgg16_bn-76b7f2c6.zip'},\n",
       "                     'DOCTR_WORD': {'PT': 'doctr/db_resnet50/pt/db_resnet50-ac60cadc.pt',\n",
       "                                    'TF': 'doctr/db_resnet50/tf/db_resnet50-adcafc63.zip'}}},\n",
       " 'PDF_MINER': {'X_TOLERANCE': 3, 'Y_TOLERANCE': 3},\n",
       " 'PT': {'CELL': {'FILTER': None,\n",
       "                 'PAD': {'BOTTOM': 60, 'LEFT': 60, 'RIGHT': 60, 'TOP': 60},\n",
       "                 'PADDING': False,\n",
       "                 'WEIGHTS': 'cell/d2_model_1849999_cell_inf_only.pt',\n",
       "                 'WEIGHTS_TS': 'cell/d2_model_1849999_cell_inf_only.ts'},\n",
       "        'ENFORCE_WEIGHTS': {'CELL': True, 'ITEM': True, 'LAYOUT': True},\n",
       "        'ITEM': {'FILTER': ['table'],\n",
       "                 'PAD': {'BOTTOM': 60, 'LEFT': 60, 'RIGHT': 60, 'TOP': 60},\n",
       "                 'PADDING': False,\n",
       "                 'WEIGHTS': 'deepdoctection/tatr_tab_struct_v2/pytorch_model.bin',\n",
       "                 'WEIGHTS_TS': 'item/d2_model_1639999_item_inf_only.ts'},\n",
       "        'LAYOUT': {'FILTER': None,\n",
       "                   'PAD': {'BOTTOM': 0, 'LEFT': 0, 'RIGHT': 0, 'TOP': 0},\n",
       "                   'PADDING': False,\n",
       "                   'WEIGHTS': 'Aryn/deformable-detr-DocLayNet/model.safetensors',\n",
       "                   'WEIGHTS_TS': 'layout/d2_model_0829999_layout_inf_only.ts'}},\n",
       " 'SEGMENTATION': {'ASSIGNMENT_RULE': 'ioa',\n",
       "                  'CELL_NAMES': [<CellType.HEADER>, <CellType.BODY>, <LayoutType.CELL>],\n",
       "                  'FULL_TABLE_TILING': True,\n",
       "                  'ITEM_NAMES': [<LayoutType.ROW>, <LayoutType.COLUMN>],\n",
       "                  'PUBTABLES_CELL_NAMES': [<LayoutType.CELL>],\n",
       "                  'PUBTABLES_ITEM_HEADER_CELL_NAMES': [<CellType.COLUMN_HEADER>,\n",
       "                                                       <CellType.ROW_HEADER>,\n",
       "                                                       <CellType.PROJECTED_ROW_HEADER>],\n",
       "                  'PUBTABLES_ITEM_HEADER_THRESHOLDS': [0.6, 0.0001],\n",
       "                  'PUBTABLES_ITEM_NAMES': [<LayoutType.ROW>, <LayoutType.COLUMN>],\n",
       "                  'PUBTABLES_SPANNING_CELL_NAMES': [<CellType.SPANNING>],\n",
       "                  'PUBTABLES_SUB_ITEM_NAMES': [<CellType.ROW_NUMBER>, <CellType.COLUMN_NUMBER>],\n",
       "                  'REMOVE_IOU_THRESHOLD_COLS': 0.2,\n",
       "                  'REMOVE_IOU_THRESHOLD_ROWS': 0.2,\n",
       "                  'STRETCH_RULE': 'equal',\n",
       "                  'SUB_ITEM_NAMES': [<CellType.ROW_NUMBER>, <CellType.COLUMN_NUMBER>],\n",
       "                  'TABLE_NAME': <LayoutType.TABLE>,\n",
       "                  'THRESHOLD_COLS': 0.4,\n",
       "                  'THRESHOLD_ROWS': 0.4},\n",
       " 'TEXT_CONTAINER': <LayoutType.WORD>,\n",
       " 'TEXT_ORDERING': {'BROKEN_LINE_TOLERANCE': 0.003,\n",
       "                   'FLOATING_TEXT_BLOCK_CATEGORIES': (<LayoutType.TEXT>, <LayoutType.TITLE>,\n",
       "                                                      <LayoutType.LIST>,\n",
       "                                                      <LayoutType.KEY_VALUE_AREA>),\n",
       "                   'HEIGHT_TOLERANCE': 2.0,\n",
       "                   'INCLUDE_RESIDUAL_TEXT_CONTAINER': True,\n",
       "                   'PARAGRAPH_BREAK': 0.035,\n",
       "                   'STARTING_POINT_TOLERANCE': 0.005,\n",
       "                   'TEXT_BLOCK_CATEGORIES': (<LayoutType.TEXT>, <LayoutType.TITLE>,\n",
       "                                             <LayoutType.LIST_ITEM>, <LayoutType.LIST>,\n",
       "                                             <LayoutType.CAPTION>, <LayoutType.PAGE_HEADER>,\n",
       "                                             <LayoutType.PAGE_FOOTER>, <LayoutType.PAGE_NUMBER>,\n",
       "                                             <LayoutType.MARK>, <LayoutType.KEY_VALUE_AREA>,\n",
       "                                             <LayoutType.FIGURE>, <CellType.SPANNING>,\n",
       "                                             <LayoutType.CELL>)},\n",
       " 'TF': {'CELL': {'FILTER': None, 'WEIGHTS': 'cell/model-1800000_inf_only.data-00000-of-00001'},\n",
       "        'ITEM': {'FILTER': None, 'WEIGHTS': 'item/model-1620000_inf_only.data-00000-of-00001'},\n",
       "        'LAYOUT': {'FILTER': None, 'WEIGHTS': 'layout/model-800000_inf_only.data-00000-of-00001'}},\n",
       " 'USE_LAYOUT': True,\n",
       " 'USE_LAYOUT_LINK': False,\n",
       " 'USE_LAYOUT_NMS': True,\n",
       " 'USE_LINE_MATCHER': False,\n",
       " 'USE_OCR': False,\n",
       " 'USE_PDF_MINER': False,\n",
       " 'USE_ROTATOR': False,\n",
       " 'USE_TABLE_REFINEMENT': False,\n",
       " 'USE_TABLE_SEGMENTATION': True,\n",
       " 'WORD_MATCHING': {'MAX_PARENT_ONLY': True,\n",
       "                   'PARENTAL_CATEGORIES': (<LayoutType.TEXT>, <LayoutType.TITLE>,\n",
       "                                           <LayoutType.LIST_ITEM>, <LayoutType.LIST>,\n",
       "                                           <LayoutType.CAPTION>, <LayoutType.PAGE_HEADER>,\n",
       "                                           <LayoutType.PAGE_FOOTER>, <LayoutType.PAGE_NUMBER>,\n",
       "                                           <LayoutType.MARK>, <LayoutType.KEY_VALUE_AREA>,\n",
       "                                           <LayoutType.FIGURE>, <CellType.SPANNING>,\n",
       "                                           <LayoutType.CELL>),\n",
       "                   'RULE': 'ioa',\n",
       "                   'THRESHOLD': 0.3}}"
      ]
     },
     "execution_count": 8,
     "metadata": {},
     "output_type": "execute_result"
    }
   ],
   "execution_count": 8
  },
  {
   "metadata": {},
   "cell_type": "markdown",
   "source": [
    "For constructing predictors (layout, table segmentation, OCR, etc.), pipeline components, and the default pipeline, a `ServiceFactory` offers a variety of methods.\n",
    "We will not cover all the methods provided by the factory here, but rather give just one example. For a complete overview, please refer to the documentation."
   ]
  },
  {
   "metadata": {
    "ExecuteTime": {
     "end_time": "2025-05-25T18:53:11.286758Z",
     "start_time": "2025-05-25T18:53:11.232740Z"
    }
   },
   "cell_type": "code",
   "source": [
    "#A very simple example of a pipeline includes a rotation detector that determines the rotation angle\n",
    "# of a page (in multiples of 90 degrees) and rotates each page so that the text is in its correct,\n",
    "# readable orientation.\n",
    "\n",
    "rotation_detector = ServiceFactory.build_rotation_detector()\n",
    "transform_service = ServiceFactory.build_transform_service(transform_predictor=rotation_detector)\n",
    "pipeline = dd.DoctectionPipe(pipeline_component_list=[transform_service])"
   ],
   "outputs": [
    {
     "data": {
      "text/plain": [
       "<deepdoctection.extern.tessocr.TesseractRotationTransformer at 0x1d11af7c0>"
      ]
     },
     "execution_count": 5,
     "metadata": {},
     "output_type": "execute_result"
    }
   ],
   "execution_count": 5
  }
 ],
 "metadata": {
  "kernelspec": {
   "display_name": "dd-pytorch",
   "language": "python",
   "name": "dd-pytorch"
  },
  "language_info": {
   "codemirror_mode": {
    "name": "ipython",
    "version": 3
   },
   "file_extension": ".py",
   "mimetype": "text/x-python",
   "name": "python",
   "nbconvert_exporter": "python",
   "pygments_lexer": "ipython3",
   "version": "3.9.18"
  }
 },
 "nbformat": 4,
 "nbformat_minor": 4
}
