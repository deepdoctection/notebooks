{
 "cells": [
  {
   "cell_type": "markdown",
   "id": "4bad8cdbd75166ce",
   "metadata": {},
   "source": [
    "![title](./pics/dd_logo.png)\n",
    "\n",
    "# Adding new models and running with **deep**doctection\n",
    "\n",
    "The `ModelCatalog` is a registry that allows models and their metadata to be inventoried within **deep**doctection. This enables faster instantiation and easier use of models within a pipeline. We provide a brief overview of the available tools for model registration and downloading, and then demonstrate how to seamlessly use pre-trained models in **deep**doctection.\n",
    "Of course, using a model in this way assumes that a corresponding model wrapper has already been implemented. If this is not the case, the [**notebook**](./Analyzer_Doclaynet_With_YOLO.ipynb) illustrates how such a model wrapper can be implemented and integrated into a pipeline.\n",
    "\n",
    "## Model Catalog\n",
    "\n",
    "The `ModelCatalog` is a class for registering models along with essential metadata.\n",
    "By default (unless otherwise configured), the model definitions are stored in the file `~/.cache/deepdoctection/profiles.jsonl`. When **deep**doctection is imported, the model information is automatically loaded.\n",
    "Model weights and model configuration files are stored in separate directories. Metadata for a specific model can be accessed via its corresponding `ModelProfile`."
   ]
  },
  {
   "cell_type": "code",
   "execution_count": 1,
   "id": "35a9d0e762b37072",
   "metadata": {
    "ExecuteTime": {
     "end_time": "2025-05-27T13:28:35.637929Z",
     "start_time": "2025-05-27T13:28:31.903732Z"
    }
   },
   "outputs": [
    {
     "name": "stderr",
     "output_type": "stream",
     "text": [
      "/Users/janismeyer/Projekte/deepdoctection/.venv/lib/python3.9/site-packages/tqdm/auto.py:22: TqdmWarning: IProgress not found. Please update jupyter and ipywidgets. See https://ipywidgets.readthedocs.io/en/stable/user_install.html\n",
      "  from .autonotebook import tqdm as notebook_tqdm\n",
      "\u001b[32m[0527 15:28.33 @file_utils.py:31]\u001b[0m  \u001b[32mINF\u001b[0m  \u001b[97mPyTorch version 2.2.2 available.\u001b[0m\n",
      "\u001b[32m[0527 15:28.33 @file_utils.py:69]\u001b[0m  \u001b[32mINF\u001b[0m  \u001b[97mDisabling Tensorflow because USE_TORCH is set\u001b[0m\n"
     ]
    },
    {
     "data": {
      "text/plain": [
       "['layout/model-800000_inf_only.data-00000-of-00001',\n",
       " 'cell/model-1800000_inf_only.data-00000-of-00001',\n",
       " 'item/model-1620000_inf_only.data-00000-of-00001',\n",
       " 'layout/d2_model_0829999_layout_inf_only.pt',\n",
       " 'layout/d2_model_0829999_layout_inf_only.ts',\n",
       " 'cell/d2_model_1849999_cell_inf_only.pt',\n",
       " 'cell/d2_model_1849999_cell_inf_only.ts',\n",
       " 'item/d2_model_1639999_item_inf_only.pt',\n",
       " 'item/d2_model_1639999_item_inf_only.ts',\n",
       " 'nielsr/lilt-xlm-roberta-base/pytorch_model.bin',\n",
       " 'SCUT-DLVCLab/lilt-infoxlm-base/pytorch_model.bin',\n",
       " 'SCUT-DLVCLab/lilt-roberta-en-base/pytorch_model.bin',\n",
       " 'microsoft/layoutlm-base-uncased/pytorch_model.bin',\n",
       " 'microsoft/layoutlm-large-uncased/pytorch_model.bin',\n",
       " 'microsoft/layoutlmv2-base-uncased/pytorch_model.bin',\n",
       " 'microsoft/layoutxlm-base/pytorch_model.bin',\n",
       " 'microsoft/layoutlmv3-base/pytorch_model.bin',\n",
       " 'microsoft/table-transformer-detection/pytorch_model.bin',\n",
       " 'microsoft/table-transformer-structure-recognition/pytorch_model.bin',\n",
       " 'doctr/db_resnet50/pt/db_resnet50-ac60cadc.pt',\n",
       " 'doctr/db_resnet50/tf/db_resnet50-adcafc63.zip',\n",
       " 'doctr/crnn_vgg16_bn/pt/crnn_vgg16_bn-9762b0b0.pt',\n",
       " 'doctr/crnn_vgg16_bn/tf/crnn_vgg16_bn-76b7f2c6.zip',\n",
       " 'FacebookAI/xlm-roberta-base/pytorch_model.bin',\n",
       " 'fasttext/lid.176.bin',\n",
       " 'deepdoctection/tatr_tab_struct_v2/pytorch_model.bin',\n",
       " 'layout/d2_model_0829999_layout.pth',\n",
       " 'cell/d2_model_1849999_cell.pth',\n",
       " 'item/d2_model_1639999_item.pth',\n",
       " 'Felix92/doctr-torch-parseq-multilingual-v1/pytorch_model.bin',\n",
       " 'doctr/crnn_vgg16_bn/pt/master-fde31e4a.pt',\n",
       " 'Aryn/deformable-detr-DocLayNet/model.safetensors']"
      ]
     },
     "execution_count": 1,
     "metadata": {},
     "output_type": "execute_result"
    }
   ],
   "source": [
    "import os\n",
    "\n",
    "import deepdoctection as dd\n",
    "from matplotlib import pyplot as plt\n",
    "\n",
    "dd.ModelCatalog.get_profile_list()"
   ]
  },
  {
   "cell_type": "code",
   "execution_count": 2,
   "id": "60ecae630044b786",
   "metadata": {
    "ExecuteTime": {
     "end_time": "2025-05-27T13:28:37.807789Z",
     "start_time": "2025-05-27T13:28:37.802830Z"
    }
   },
   "outputs": [
    {
     "data": {
      "text/plain": [
       "'~/.cache/deepdoctection/weights/layout/d2_model_0829999_layout_inf_only.pt'"
      ]
     },
     "execution_count": 2,
     "metadata": {},
     "output_type": "execute_result"
    }
   ],
   "source": [
    "import pathlib\n",
    "\n",
    "dd.ModelCatalog.get_full_path_weights('layout/d2_model_0829999_layout_inf_only.pt').replace(str(pathlib.Path.home()),\"~\")"
   ]
  },
  {
   "cell_type": "code",
   "execution_count": 3,
   "id": "53d10e7775002849",
   "metadata": {
    "ExecuteTime": {
     "end_time": "2025-05-27T13:28:40.648067Z",
     "start_time": "2025-05-27T13:28:40.643127Z"
    }
   },
   "outputs": [
    {
     "data": {
      "text/plain": [
       "'~/.cache/deepdoctection/configs/dd/d2/layout/CASCADE_RCNN_R_50_FPN_GN.yaml'"
      ]
     },
     "execution_count": 3,
     "metadata": {},
     "output_type": "execute_result"
    }
   ],
   "source": [
    "dd.ModelCatalog.get_full_path_configs('layout/d2_model_0829999_layout_inf_only.pt').replace(str(pathlib.Path.home()),\"~\")"
   ]
  },
  {
   "cell_type": "code",
   "execution_count": 4,
   "id": "e010df7895409391",
   "metadata": {
    "ExecuteTime": {
     "end_time": "2025-05-27T13:28:42.253844Z",
     "start_time": "2025-05-27T13:28:42.249195Z"
    }
   },
   "outputs": [
    {
     "data": {
      "text/plain": [
       "{'name': 'layout/d2_model_0829999_layout_inf_only.pt',\n",
       " 'description': 'Detectron2 layout detection model trained on Publaynet',\n",
       " 'size': [274632215],\n",
       " 'tp_model': False,\n",
       " 'config': 'dd/d2/layout/CASCADE_RCNN_R_50_FPN_GN.yaml',\n",
       " 'preprocessor_config': None,\n",
       " 'hf_repo_id': 'deepdoctection/d2_casc_rcnn_X_32xd4_50_FPN_GN_2FC_publaynet_inference_only',\n",
       " 'hf_model_name': 'd2_model_0829999_layout_inf_only.pt',\n",
       " 'hf_config_file': ['Base-RCNN-FPN.yaml', 'CASCADE_RCNN_R_50_FPN_GN.yaml'],\n",
       " 'urls': None,\n",
       " 'categories': {1: <LayoutType.TEXT>,\n",
       "  2: <LayoutType.TITLE>,\n",
       "  3: <LayoutType.LIST>,\n",
       "  4: <LayoutType.TABLE>,\n",
       "  5: <LayoutType.FIGURE>},\n",
       " 'categories_orig': None,\n",
       " 'dl_library': 'PT',\n",
       " 'model_wrapper': 'D2FrcnnDetector',\n",
       " 'architecture': None,\n",
       " 'padding': None}"
      ]
     },
     "execution_count": 4,
     "metadata": {},
     "output_type": "execute_result"
    }
   ],
   "source": [
    "from dataclasses import asdict\n",
    "\n",
    "asdict(dd.ModelCatalog.get_profile('layout/d2_model_0829999_layout_inf_only.pt'))"
   ]
  },
  {
   "cell_type": "markdown",
   "id": "3da14d29b874e4fc",
   "metadata": {},
   "source": [
    "## Registering a new model\n",
    "\n",
    "We now demonstrate how to register a pre-trained model and subsequently use it within the **deep**doctection pipeline.\n",
    "\n",
    "For this purpose, we use a pre-trained model from the [**Layout-Parser**](https://layout-parser.github.io) repositor.\n",
    "This model is supported by Detectron2. The model weights can be found [**here**](https://www.dropbox.com/s/6ewh6g8rqt2ev3a/model\\_final.pth?dl=1](https://www.dropbox.com/s/6ewh6g8rqt2ev3a/model_final.pth?dl=1), and the model configuration [**here**]([https://www.dropbox.com/s/6ewh6g8rqt2ev3a/model\\_final.pth?dl=1](https://www.dropbox.com/s/6ewh6g8rqt2ev3a/model_final.pth?dl=1). The model has been pre-trained on a historical newspaper dataset and detects the following layout segments: PHOTOGRAPH, ILLUSTRATION, MAP, COMIC, EDITORIAL_CARTOON, HEADLINE, and ADVERTISEMENT. These categories do not yet exist in the **deep**doctection ecosystem and must be registered beforehand.\n",
    "\n",
    "\n",
    "\n"
   ]
  },
  {
   "cell_type": "code",
   "execution_count": 5,
   "id": "f2f0731adb830441",
   "metadata": {
    "ExecuteTime": {
     "end_time": "2025-05-27T13:28:45.298277Z",
     "start_time": "2025-05-27T13:28:45.294972Z"
    }
   },
   "outputs": [],
   "source": [
    "@dd.object_types_registry.register(\"NewspaperType\")\n",
    "class NewspaperExtension(dd.ObjectTypes):\n",
    "    \"\"\"Additional Newspaper labels not registered yet\"\"\"\n",
    "\n",
    "    PHOTOGRAPH =\"Photograph\",\n",
    "    ILLUSTRATION = \"Illustration\",\n",
    "    MAP = \"Map\",\n",
    "    COMIC = \"Comics/Cartoon\",\n",
    "    EDITORIAL_CARTOON = \"Editorial Cartoon\",\n",
    "    HEADLINE = \"Headline\",\n",
    "    ADVERTISEMENT =  \"Advertisement\""
   ]
  },
  {
   "cell_type": "markdown",
   "id": "4f3c769e7915cdbb",
   "metadata": {},
   "source": [
    "We also need to specify how these layout sections should behave. Ultimately, they should be treated in the same way as residual layout sections."
   ]
  },
  {
   "cell_type": "code",
   "execution_count": 6,
   "id": "94554e726e1c87a0",
   "metadata": {
    "ExecuteTime": {
     "end_time": "2025-05-27T13:28:48.495078Z",
     "start_time": "2025-05-27T13:28:48.492273Z"
    }
   },
   "outputs": [],
   "source": [
    "from deepdoctection.datapoint import IMAGE_DEFAULTS"
   ]
  },
  {
   "cell_type": "code",
   "execution_count": 7,
   "id": "59f1925f02d6aa69",
   "metadata": {
    "ExecuteTime": {
     "end_time": "2025-05-27T13:28:49.683559Z",
     "start_time": "2025-05-27T13:28:49.680023Z"
    }
   },
   "outputs": [],
   "source": [
    "IMAGE_DEFAULTS.IMAGE_ANNOTATION_TO_LAYOUTS.update({i: dd.Layout for i in NewspaperExtension})\n",
    "IMAGE_DEFAULTS.RESIDUAL_TEXT_BLOCK_CATEGORIES= IMAGE_DEFAULTS.RESIDUAL_TEXT_BLOCK_CATEGORIES + tuple(cat for cat in NewspaperExtension)"
   ]
  },
  {
   "cell_type": "markdown",
   "id": "66ca29997db288ad",
   "metadata": {},
   "source": [
    "Adding the model `layoutparser/newspaper/model_final.pth` requires to save weights to `~/.cache/deepdoctection/layoutparser/newspaper/model_final.pth` and the config to `~/.cache/deepdoctection/layoutparser/newspaper/config.yml`.\n",
    "\n",
    "You can save the new profile to the `profiles.jsonl` file\n",
    "\n",
    "```python\n",
    "dd.ModelCatalog.save_profiles_to_file(\"/path/to/target/profiles.jsonl\")"
   ]
  },
  {
   "cell_type": "code",
   "execution_count": 8,
   "id": "e764abcb43bd06ac",
   "metadata": {
    "ExecuteTime": {
     "end_time": "2025-05-27T13:28:51.945812Z",
     "start_time": "2025-05-27T13:28:51.942Z"
    }
   },
   "outputs": [],
   "source": [
    "dd.ModelCatalog.register(\"layoutparser/newspaper/model_final.pth\", dd.ModelProfile(\n",
    "    name=\"layoutparser/newspaper/model_final.pth\",\n",
    "    description=\"layout detection \",\n",
    "    config=\"layoutparser/newspaper/config.yml\",\n",
    "    size=[],\n",
    "    tp_model=False,\n",
    "    categories={1: NewspaperExtension.PHOTOGRAPH,\n",
    "                2: NewspaperExtension.ILLUSTRATION,\n",
    "                3: NewspaperExtension.MAP,\n",
    "                4: NewspaperExtension.COMIC,\n",
    "                5: NewspaperExtension.EDITORIAL_CARTOON,\n",
    "                6: NewspaperExtension.HEADLINE,\n",
    "                7: NewspaperExtension.ADVERTISEMENT},\n",
    "    model_wrapper=\"D2FrcnnDetector\",\n",
    "))"
   ]
  },
  {
   "cell_type": "markdown",
   "id": "8b458de2fbc9e9e3",
   "metadata": {},
   "source": [
    "Once the model is registered we can use this model in the `analyzer`:"
   ]
  },
  {
   "cell_type": "code",
   "execution_count": null,
   "id": "0f560e57-1dc5-49fa-960b-2f54658f6e4b",
   "metadata": {
    "ExecuteTime": {
     "end_time": "2025-05-27T13:28:55.288238Z",
     "start_time": "2025-05-27T13:28:54.621061Z"
    }
   },
   "outputs": [],
   "source": [
    "analyzer = dd.get_dd_analyzer(config_overwrite=[\"PT.LAYOUT.WEIGHTS=layoutparser/newspaper/model_final.pth\",\n",
    "                                                \"USE_OCR=False\",\n",
    "                                                \"USE_TABLE_SEGMENTATION=False\",])"
   ]
  },
  {
   "cell_type": "code",
   "execution_count": null,
   "id": "297cfc144c47fb39",
   "metadata": {},
   "outputs": [],
   "source": [
    "df = analyzer.analyze(path=\"/path/to/dir/newspaper_layout\")\n",
    "df.reset_state()\n",
    "\n",
    "df_iter = iter(df)\n",
    "dp = next(df_iter)\n",
    "\n",
    "image = dp.viz(show_residual_layouts=True)\n",
    "\n",
    "plt.figure(figsize = (25,17))\n",
    "plt.axis('off')\n",
    "plt.imshow(image)"
   ]
  },
  {
   "cell_type": "markdown",
   "id": "bb2b1a2c4b515de7",
   "metadata": {},
   "source": [
    "![layoutparser_3.png](./pics/layoutparser_3.png)"
   ]
  },
  {
   "cell_type": "code",
   "execution_count": 13,
   "id": "97102db6abed7de2",
   "metadata": {
    "ExecuteTime": {
     "end_time": "2025-05-27T13:31:08.692559Z",
     "start_time": "2025-05-27T13:31:08.688617Z"
    }
   },
   "outputs": [
    {
     "data": {
      "text/plain": [
       "[Layout(active=True, _annotation_id='df22c03b-896c-323c-b5ae-2e4b1fd1faf3', service_id='9dcc2fbd', model_id='cfa02246', session_id=None, category_name=<NewspaperExtension.PHOTOGRAPH>, _category_name=<NewspaperExtension.PHOTOGRAPH>, category_id=1, score=0.9747101664543152, sub_categories={}, relationships={}, bounding_box=BoundingBox(absolute_coords=True, ulx=453, uly=806, lrx=786, lry=1291, width=333, height=485)),\n",
       " Layout(active=True, _annotation_id='77d4e101-e45a-35fe-ab2c-53465c9c2a14', service_id='9dcc2fbd', model_id='cfa02246', session_id=None, category_name=<NewspaperExtension.HEADLINE>, _category_name=<NewspaperExtension.HEADLINE>, category_id=6, score=0.8193893432617188, sub_categories={}, relationships={}, bounding_box=BoundingBox(absolute_coords=True, ulx=33, uly=286, lrx=868, lry=456, width=835, height=170)),\n",
       " Layout(active=True, _annotation_id='ab329403-f1c3-3d41-8166-e476867c1eeb', service_id='9dcc2fbd', model_id='cfa02246', session_id=None, category_name=<NewspaperExtension.PHOTOGRAPH>, _category_name=<NewspaperExtension.PHOTOGRAPH>, category_id=1, score=0.793633222579956, sub_categories={}, relationships={}, bounding_box=BoundingBox(absolute_coords=True, ulx=24, uly=789, lrx=443, lry=1275, width=419, height=486)),\n",
       " Layout(active=True, _annotation_id='c0d708e1-4632-39f4-ad46-9f469a41fc48', service_id='9dcc2fbd', model_id='cfa02246', session_id=None, category_name=<NewspaperExtension.ILLUSTRATION>, _category_name=<NewspaperExtension.ILLUSTRATION>, category_id=2, score=0.7907929420471191, sub_categories={}, relationships={}, bounding_box=BoundingBox(absolute_coords=True, ulx=43, uly=450, lrx=456, lry=815, width=413, height=365))]"
      ]
     },
     "execution_count": 13,
     "metadata": {},
     "output_type": "execute_result"
    }
   ],
   "source": [
    "dp.residual_layouts"
   ]
  }
 ],
 "metadata": {
  "kernelspec": {
   "display_name": "Python 3 (ipykernel)",
   "language": "python",
   "name": "python3"
  },
  "language_info": {
   "codemirror_mode": {
    "name": "ipython",
    "version": 3
   },
   "file_extension": ".py",
   "mimetype": "text/x-python",
   "name": "python",
   "nbconvert_exporter": "python",
   "pygments_lexer": "ipython3",
   "version": "3.9.18"
  }
 },
 "nbformat": 4,
 "nbformat_minor": 5
}
